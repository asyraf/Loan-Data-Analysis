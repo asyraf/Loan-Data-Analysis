{
 "cells": [
  {
   "cell_type": "code",
<<<<<<< HEAD
   "execution_count": 398,
=======
   "execution_count": 381,
>>>>>>> 0cfc41ccb2ba7cad31e5c8173b425537a33b9ff6
   "metadata": {},
   "outputs": [
    {
     "name": "stdout",
     "output_type": "stream",
     "text": [
      "Populating the interactive namespace from numpy and matplotlib\n"
     ]
    }
   ],
   "source": [
    "%pylab inline\n",
    "%matplotlib inline\n",
    "import random\n",
    "import pandas as pd\n",
    "import matplotlib.pyplot as plt\n",
    "import warnings; warnings.simplefilter('ignore')"
   ]
  },
  {
   "cell_type": "code",
<<<<<<< HEAD
   "execution_count": 399,
=======
   "execution_count": 382,
>>>>>>> 0cfc41ccb2ba7cad31e5c8173b425537a33b9ff6
   "metadata": {
    "collapsed": true,
    "scrolled": true
   },
   "outputs": [],
   "source": [
    "df = pd.read_csv(\"X:/Programming/Projects/JupyterNotebooks/train_loan.csv\") # Reading data set in a dataframe using Pndas"
   ]
  },
  {
   "cell_type": "code",
<<<<<<< HEAD
   "execution_count": 400,
=======
   "execution_count": 383,
>>>>>>> 0cfc41ccb2ba7cad31e5c8173b425537a33b9ff6
   "metadata": {},
   "outputs": [
    {
     "data": {
      "text/html": [
       "<div>\n",
       "<style>\n",
       "    .dataframe thead tr:only-child th {\n",
       "        text-align: right;\n",
       "    }\n",
       "\n",
       "    .dataframe thead th {\n",
       "        text-align: left;\n",
       "    }\n",
       "\n",
       "    .dataframe tbody tr th {\n",
       "        vertical-align: top;\n",
       "    }\n",
       "</style>\n",
       "<table border=\"1\" class=\"dataframe\">\n",
       "  <thead>\n",
       "    <tr style=\"text-align: right;\">\n",
       "      <th></th>\n",
       "      <th>Loan_ID</th>\n",
       "      <th>Gender</th>\n",
       "      <th>Married</th>\n",
       "      <th>Dependents</th>\n",
       "      <th>Education</th>\n",
       "      <th>Self_Employed</th>\n",
       "      <th>ApplicantIncome</th>\n",
       "      <th>CoapplicantIncome</th>\n",
       "      <th>LoanAmount</th>\n",
       "      <th>Loan_Amount_Term</th>\n",
       "      <th>Credit_History</th>\n",
       "      <th>Property_Area</th>\n",
       "      <th>Loan_Status</th>\n",
       "    </tr>\n",
       "  </thead>\n",
       "  <tbody>\n",
       "    <tr>\n",
       "      <th>0</th>\n",
       "      <td>LP001002</td>\n",
       "      <td>Male</td>\n",
       "      <td>No</td>\n",
       "      <td>0</td>\n",
       "      <td>Graduate</td>\n",
       "      <td>No</td>\n",
       "      <td>5849</td>\n",
       "      <td>0.0</td>\n",
       "      <td>NaN</td>\n",
       "      <td>360.0</td>\n",
       "      <td>1.0</td>\n",
       "      <td>Urban</td>\n",
       "      <td>Y</td>\n",
       "    </tr>\n",
       "    <tr>\n",
       "      <th>1</th>\n",
       "      <td>LP001003</td>\n",
       "      <td>Male</td>\n",
       "      <td>Yes</td>\n",
       "      <td>1</td>\n",
       "      <td>Graduate</td>\n",
       "      <td>No</td>\n",
       "      <td>4583</td>\n",
       "      <td>1508.0</td>\n",
       "      <td>128.0</td>\n",
       "      <td>360.0</td>\n",
       "      <td>1.0</td>\n",
       "      <td>Rural</td>\n",
       "      <td>N</td>\n",
       "    </tr>\n",
       "    <tr>\n",
       "      <th>2</th>\n",
       "      <td>LP001005</td>\n",
       "      <td>Male</td>\n",
       "      <td>Yes</td>\n",
       "      <td>0</td>\n",
       "      <td>Graduate</td>\n",
       "      <td>Yes</td>\n",
       "      <td>3000</td>\n",
       "      <td>0.0</td>\n",
       "      <td>66.0</td>\n",
       "      <td>360.0</td>\n",
       "      <td>1.0</td>\n",
       "      <td>Urban</td>\n",
       "      <td>Y</td>\n",
       "    </tr>\n",
       "    <tr>\n",
       "      <th>3</th>\n",
       "      <td>LP001006</td>\n",
       "      <td>Male</td>\n",
       "      <td>Yes</td>\n",
       "      <td>0</td>\n",
       "      <td>Not Graduate</td>\n",
       "      <td>No</td>\n",
       "      <td>2583</td>\n",
       "      <td>2358.0</td>\n",
       "      <td>120.0</td>\n",
       "      <td>360.0</td>\n",
       "      <td>1.0</td>\n",
       "      <td>Urban</td>\n",
       "      <td>Y</td>\n",
       "    </tr>\n",
       "    <tr>\n",
       "      <th>4</th>\n",
       "      <td>LP001008</td>\n",
       "      <td>Male</td>\n",
       "      <td>No</td>\n",
       "      <td>0</td>\n",
       "      <td>Graduate</td>\n",
       "      <td>No</td>\n",
       "      <td>6000</td>\n",
       "      <td>0.0</td>\n",
       "      <td>141.0</td>\n",
       "      <td>360.0</td>\n",
       "      <td>1.0</td>\n",
       "      <td>Urban</td>\n",
       "      <td>Y</td>\n",
       "    </tr>\n",
       "    <tr>\n",
       "      <th>5</th>\n",
       "      <td>LP001011</td>\n",
       "      <td>Male</td>\n",
       "      <td>Yes</td>\n",
       "      <td>2</td>\n",
       "      <td>Graduate</td>\n",
       "      <td>Yes</td>\n",
       "      <td>5417</td>\n",
       "      <td>4196.0</td>\n",
       "      <td>267.0</td>\n",
       "      <td>360.0</td>\n",
       "      <td>1.0</td>\n",
       "      <td>Urban</td>\n",
       "      <td>Y</td>\n",
       "    </tr>\n",
       "    <tr>\n",
       "      <th>6</th>\n",
       "      <td>LP001013</td>\n",
       "      <td>Male</td>\n",
       "      <td>Yes</td>\n",
       "      <td>0</td>\n",
       "      <td>Not Graduate</td>\n",
       "      <td>No</td>\n",
       "      <td>2333</td>\n",
       "      <td>1516.0</td>\n",
       "      <td>95.0</td>\n",
       "      <td>360.0</td>\n",
       "      <td>1.0</td>\n",
       "      <td>Urban</td>\n",
       "      <td>Y</td>\n",
       "    </tr>\n",
       "    <tr>\n",
       "      <th>7</th>\n",
       "      <td>LP001014</td>\n",
       "      <td>Male</td>\n",
       "      <td>Yes</td>\n",
       "      <td>3+</td>\n",
       "      <td>Graduate</td>\n",
       "      <td>No</td>\n",
       "      <td>3036</td>\n",
       "      <td>2504.0</td>\n",
       "      <td>158.0</td>\n",
       "      <td>360.0</td>\n",
       "      <td>0.0</td>\n",
       "      <td>Semiurban</td>\n",
       "      <td>N</td>\n",
       "    </tr>\n",
       "    <tr>\n",
       "      <th>8</th>\n",
       "      <td>LP001018</td>\n",
       "      <td>Male</td>\n",
       "      <td>Yes</td>\n",
       "      <td>2</td>\n",
       "      <td>Graduate</td>\n",
       "      <td>No</td>\n",
       "      <td>4006</td>\n",
       "      <td>1526.0</td>\n",
       "      <td>168.0</td>\n",
       "      <td>360.0</td>\n",
       "      <td>1.0</td>\n",
       "      <td>Urban</td>\n",
       "      <td>Y</td>\n",
       "    </tr>\n",
       "    <tr>\n",
       "      <th>9</th>\n",
       "      <td>LP001020</td>\n",
       "      <td>Male</td>\n",
       "      <td>Yes</td>\n",
       "      <td>1</td>\n",
       "      <td>Graduate</td>\n",
       "      <td>No</td>\n",
       "      <td>12841</td>\n",
       "      <td>10968.0</td>\n",
       "      <td>349.0</td>\n",
       "      <td>360.0</td>\n",
       "      <td>1.0</td>\n",
       "      <td>Semiurban</td>\n",
       "      <td>N</td>\n",
       "    </tr>\n",
       "  </tbody>\n",
       "</table>\n",
       "</div>"
      ],
      "text/plain": [
       "    Loan_ID Gender Married Dependents     Education Self_Employed  \\\n",
       "0  LP001002   Male      No          0      Graduate            No   \n",
       "1  LP001003   Male     Yes          1      Graduate            No   \n",
       "2  LP001005   Male     Yes          0      Graduate           Yes   \n",
       "3  LP001006   Male     Yes          0  Not Graduate            No   \n",
       "4  LP001008   Male      No          0      Graduate            No   \n",
       "5  LP001011   Male     Yes          2      Graduate           Yes   \n",
       "6  LP001013   Male     Yes          0  Not Graduate            No   \n",
       "7  LP001014   Male     Yes         3+      Graduate            No   \n",
       "8  LP001018   Male     Yes          2      Graduate            No   \n",
       "9  LP001020   Male     Yes          1      Graduate            No   \n",
       "\n",
       "   ApplicantIncome  CoapplicantIncome  LoanAmount  Loan_Amount_Term  \\\n",
       "0             5849                0.0         NaN             360.0   \n",
       "1             4583             1508.0       128.0             360.0   \n",
       "2             3000                0.0        66.0             360.0   \n",
       "3             2583             2358.0       120.0             360.0   \n",
       "4             6000                0.0       141.0             360.0   \n",
       "5             5417             4196.0       267.0             360.0   \n",
       "6             2333             1516.0        95.0             360.0   \n",
       "7             3036             2504.0       158.0             360.0   \n",
       "8             4006             1526.0       168.0             360.0   \n",
       "9            12841            10968.0       349.0             360.0   \n",
       "\n",
       "   Credit_History Property_Area Loan_Status  \n",
       "0             1.0         Urban           Y  \n",
       "1             1.0         Rural           N  \n",
       "2             1.0         Urban           Y  \n",
       "3             1.0         Urban           Y  \n",
       "4             1.0         Urban           Y  \n",
       "5             1.0         Urban           Y  \n",
       "6             1.0         Urban           Y  \n",
       "7             0.0     Semiurban           N  \n",
       "8             1.0         Urban           Y  \n",
       "9             1.0     Semiurban           N  "
      ]
     },
<<<<<<< HEAD
     "execution_count": 400,
=======
     "execution_count": 383,
>>>>>>> 0cfc41ccb2ba7cad31e5c8173b425537a33b9ff6
     "metadata": {},
     "output_type": "execute_result"
    }
   ],
   "source": [
    "df.head(10)"
   ]
  },
  {
   "cell_type": "markdown",
   "metadata": {},
   "source": [
    "We take a look at the variables to have a high level view of the data."
   ]
  },
  {
   "cell_type": "code",
<<<<<<< HEAD
   "execution_count": 401,
=======
   "execution_count": 384,
>>>>>>> 0cfc41ccb2ba7cad31e5c8173b425537a33b9ff6
   "metadata": {},
   "outputs": [
    {
     "data": {
      "text/html": [
       "<div>\n",
       "<style>\n",
       "    .dataframe thead tr:only-child th {\n",
       "        text-align: right;\n",
       "    }\n",
       "\n",
       "    .dataframe thead th {\n",
       "        text-align: left;\n",
       "    }\n",
       "\n",
       "    .dataframe tbody tr th {\n",
       "        vertical-align: top;\n",
       "    }\n",
       "</style>\n",
       "<table border=\"1\" class=\"dataframe\">\n",
       "  <thead>\n",
       "    <tr style=\"text-align: right;\">\n",
       "      <th></th>\n",
       "      <th>ApplicantIncome</th>\n",
       "      <th>CoapplicantIncome</th>\n",
       "      <th>LoanAmount</th>\n",
       "      <th>Loan_Amount_Term</th>\n",
       "      <th>Credit_History</th>\n",
       "    </tr>\n",
       "  </thead>\n",
       "  <tbody>\n",
       "    <tr>\n",
       "      <th>count</th>\n",
       "      <td>614.000000</td>\n",
       "      <td>614.000000</td>\n",
       "      <td>592.000000</td>\n",
       "      <td>600.00000</td>\n",
       "      <td>564.000000</td>\n",
       "    </tr>\n",
       "    <tr>\n",
       "      <th>mean</th>\n",
       "      <td>5403.459283</td>\n",
       "      <td>1621.245798</td>\n",
       "      <td>146.412162</td>\n",
       "      <td>342.00000</td>\n",
       "      <td>0.842199</td>\n",
       "    </tr>\n",
       "    <tr>\n",
       "      <th>std</th>\n",
       "      <td>6109.041673</td>\n",
       "      <td>2926.248369</td>\n",
       "      <td>85.587325</td>\n",
       "      <td>65.12041</td>\n",
       "      <td>0.364878</td>\n",
       "    </tr>\n",
       "    <tr>\n",
       "      <th>min</th>\n",
       "      <td>150.000000</td>\n",
       "      <td>0.000000</td>\n",
       "      <td>9.000000</td>\n",
       "      <td>12.00000</td>\n",
       "      <td>0.000000</td>\n",
       "    </tr>\n",
       "    <tr>\n",
       "      <th>25%</th>\n",
       "      <td>2877.500000</td>\n",
       "      <td>0.000000</td>\n",
       "      <td>100.000000</td>\n",
       "      <td>360.00000</td>\n",
       "      <td>1.000000</td>\n",
       "    </tr>\n",
       "    <tr>\n",
       "      <th>50%</th>\n",
       "      <td>3812.500000</td>\n",
       "      <td>1188.500000</td>\n",
       "      <td>128.000000</td>\n",
       "      <td>360.00000</td>\n",
       "      <td>1.000000</td>\n",
       "    </tr>\n",
       "    <tr>\n",
       "      <th>75%</th>\n",
       "      <td>5795.000000</td>\n",
       "      <td>2297.250000</td>\n",
       "      <td>168.000000</td>\n",
       "      <td>360.00000</td>\n",
       "      <td>1.000000</td>\n",
       "    </tr>\n",
       "    <tr>\n",
       "      <th>max</th>\n",
       "      <td>81000.000000</td>\n",
       "      <td>41667.000000</td>\n",
       "      <td>700.000000</td>\n",
       "      <td>480.00000</td>\n",
       "      <td>1.000000</td>\n",
       "    </tr>\n",
       "  </tbody>\n",
       "</table>\n",
       "</div>"
      ],
      "text/plain": [
       "       ApplicantIncome  CoapplicantIncome  LoanAmount  Loan_Amount_Term  \\\n",
       "count       614.000000         614.000000  592.000000         600.00000   \n",
       "mean       5403.459283        1621.245798  146.412162         342.00000   \n",
       "std        6109.041673        2926.248369   85.587325          65.12041   \n",
       "min         150.000000           0.000000    9.000000          12.00000   \n",
       "25%        2877.500000           0.000000  100.000000         360.00000   \n",
       "50%        3812.500000        1188.500000  128.000000         360.00000   \n",
       "75%        5795.000000        2297.250000  168.000000         360.00000   \n",
       "max       81000.000000       41667.000000  700.000000         480.00000   \n",
       "\n",
       "       Credit_History  \n",
       "count      564.000000  \n",
       "mean         0.842199  \n",
       "std          0.364878  \n",
       "min          0.000000  \n",
       "25%          1.000000  \n",
       "50%          1.000000  \n",
       "75%          1.000000  \n",
       "max          1.000000  "
      ]
     },
<<<<<<< HEAD
     "execution_count": 401,
=======
     "execution_count": 384,
>>>>>>> 0cfc41ccb2ba7cad31e5c8173b425537a33b9ff6
     "metadata": {},
     "output_type": "execute_result"
    }
   ],
   "source": [
    "df.describe() # Get summary of numerical variables"
   ]
  },
  {
   "cell_type": "markdown",
   "metadata": {},
   "source": [
    "From the figures, there are a couple of early observations that we can make:\n",
    "    \n",
    "1. There are a few missing data from the columns LoanAmount, Loan_Amount_Term and Credit_History.\n",
    "2. 84% of the applicants have a credit history.\n",
    "3. The mean is roughly around where we expect it to be.\n",
    "4. The distribution is right-skewed based on the values of median (50%) and mean.\n",
    "5. There are probably a few extreme values."
   ]
  },
  {
   "cell_type": "code",
<<<<<<< HEAD
   "execution_count": 402,
=======
   "execution_count": 385,
>>>>>>> 0cfc41ccb2ba7cad31e5c8173b425537a33b9ff6
   "metadata": {},
   "outputs": [
    {
     "data": {
      "text/plain": [
       "Semiurban    233\n",
       "Urban        202\n",
       "Rural        179\n",
       "Name: Property_Area, dtype: int64"
      ]
     },
<<<<<<< HEAD
     "execution_count": 402,
=======
     "execution_count": 385,
>>>>>>> 0cfc41ccb2ba7cad31e5c8173b425537a33b9ff6
     "metadata": {},
     "output_type": "execute_result"
    }
   ],
   "source": [
    "df['Property_Area'].value_counts() # count the numbers of properties based on type"
   ]
  },
  {
   "cell_type": "markdown",
   "metadata": {},
   "source": [
    "The number of properties in different areas seems reasonable."
   ]
  },
  {
   "cell_type": "code",
<<<<<<< HEAD
   "execution_count": 403,
=======
   "execution_count": 386,
>>>>>>> 0cfc41ccb2ba7cad31e5c8173b425537a33b9ff6
   "metadata": {},
   "outputs": [
    {
     "data": {
      "text/plain": [
<<<<<<< HEAD
       "<matplotlib.axes._subplots.AxesSubplot at 0x205e8d79908>"
      ]
     },
     "execution_count": 403,
=======
       "<matplotlib.axes._subplots.AxesSubplot at 0x29856d058d0>"
      ]
     },
     "execution_count": 386,
>>>>>>> 0cfc41ccb2ba7cad31e5c8173b425537a33b9ff6
     "metadata": {},
     "output_type": "execute_result"
    },
    {
     "data": {
      "image/png": "iVBORw0KGgoAAAANSUhEUgAAAXoAAAD8CAYAAAB5Pm/hAAAABHNCSVQICAgIfAhkiAAAAAlwSFlz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\nilm11XWHygAAAABJRU5ErkJggg==\n",
      "text/plain": [
<<<<<<< HEAD
       "<matplotlib.figure.Figure at 0x205e8d80160>"
=======
       "<matplotlib.figure.Figure at 0x29856cea5c0>"
>>>>>>> 0cfc41ccb2ba7cad31e5c8173b425537a33b9ff6
      ]
     },
     "metadata": {},
     "output_type": "display_data"
    }
   ],
   "source": [
    "df['ApplicantIncome'].hist(bins=50) # histogram of applicant income"
   ]
  },
  {
   "cell_type": "code",
<<<<<<< HEAD
   "execution_count": 404,
=======
   "execution_count": 387,
>>>>>>> 0cfc41ccb2ba7cad31e5c8173b425537a33b9ff6
   "metadata": {},
   "outputs": [
    {
     "data": {
      "text/plain": [
<<<<<<< HEAD
       "<matplotlib.axes._subplots.AxesSubplot at 0x205e8d9e080>"
      ]
     },
     "execution_count": 404,
=======
       "<matplotlib.axes._subplots.AxesSubplot at 0x29856d04208>"
      ]
     },
     "execution_count": 387,
>>>>>>> 0cfc41ccb2ba7cad31e5c8173b425537a33b9ff6
     "metadata": {},
     "output_type": "execute_result"
    },
    {
     "data": {
      "image/png": "iVBORw0KGgoAAAANSUhEUgAAAYcAAAD8CAYAAACcjGjIAAAABHNCSVQICAgIfAhkiAAAAAlwSFlz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\nT1HkV39BFwAAAABJRU5ErkJggg==\n",
      "text/plain": [
<<<<<<< HEAD
       "<matplotlib.figure.Figure at 0x205e8e3db38>"
=======
       "<matplotlib.figure.Figure at 0x29856d23748>"
>>>>>>> 0cfc41ccb2ba7cad31e5c8173b425537a33b9ff6
      ]
     },
     "metadata": {},
     "output_type": "display_data"
    }
   ],
   "source": [
    "df.boxplot(column='ApplicantIncome') # boxplot of applicant income"
   ]
  },
  {
   "cell_type": "markdown",
   "metadata": {},
   "source": [
    "This confirms the presence of outliers or extreme values in our data set which is likely due to the income disparity in our society. Education probably has an impact on one's outcome. Let us check that by plotting income against education."
   ]
  },
  {
   "cell_type": "code",
<<<<<<< HEAD
   "execution_count": 405,
=======
   "execution_count": 388,
>>>>>>> 0cfc41ccb2ba7cad31e5c8173b425537a33b9ff6
   "metadata": {},
   "outputs": [
    {
     "data": {
      "text/plain": [
<<<<<<< HEAD
       "<matplotlib.axes._subplots.AxesSubplot at 0x205e8e37e48>"
      ]
     },
     "execution_count": 405,
=======
       "<matplotlib.axes._subplots.AxesSubplot at 0x29856dbb630>"
      ]
     },
     "execution_count": 388,
>>>>>>> 0cfc41ccb2ba7cad31e5c8173b425537a33b9ff6
     "metadata": {},
     "output_type": "execute_result"
    },
    {
     "data": {
      "image/png": "iVBORw0KGgoAAAANSUhEUgAAAZEAAAEcCAYAAAAGD4lRAAAABHNCSVQICAgIfAhkiAAAAAlwSFlz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\ngg==\n",
      "text/plain": [
<<<<<<< HEAD
       "<matplotlib.figure.Figure at 0x205e8ea5d30>"
=======
       "<matplotlib.figure.Figure at 0x29856df00b8>"
>>>>>>> 0cfc41ccb2ba7cad31e5c8173b425537a33b9ff6
      ]
     },
     "metadata": {},
     "output_type": "display_data"
    }
   ],
   "source": [
    "df.boxplot(column='ApplicantIncome', by='Education') # boxplot of applicant income and education"
   ]
  },
  {
   "cell_type": "markdown",
   "metadata": {},
   "source": [
    "We can see that there isn't much difference between the median incomes for a graduate and a non-graduate. However, the outliers or extremely high incomes all belong to the graduate group."
   ]
  },
  {
   "cell_type": "code",
<<<<<<< HEAD
   "execution_count": 406,
=======
   "execution_count": 389,
>>>>>>> 0cfc41ccb2ba7cad31e5c8173b425537a33b9ff6
   "metadata": {},
   "outputs": [
    {
     "data": {
      "text/plain": [
<<<<<<< HEAD
       "<matplotlib.axes._subplots.AxesSubplot at 0x205e8ecff98>"
      ]
     },
     "execution_count": 406,
=======
       "<matplotlib.axes._subplots.AxesSubplot at 0x29856e61438>"
      ]
     },
     "execution_count": 389,
>>>>>>> 0cfc41ccb2ba7cad31e5c8173b425537a33b9ff6
     "metadata": {},
     "output_type": "execute_result"
    },
    {
     "data": {
      "image/png": "iVBORw0KGgoAAAANSUhEUgAAAXQAAAD8CAYAAABn919SAAAABHNCSVQICAgIfAhkiAAAAAlwSFlz\nAAALEgAACxIB0t1+/AAAADl0RVh0U29mdHdhcmUAbWF0cGxvdGxpYiB2ZXJzaW9uIDIuMS4wLCBo\ndHRwOi8vbWF0cGxvdGxpYi5vcmcvpW3flQAAEBpJREFUeJzt3X+MZWV9x/H3t6wI7CjLD52SXeJA\nJFTTbYWdUCitmQXbKhjlD0wxxC4Gs0m1VOs2urRJTf9ogk391aSp3Yh2/7AsirYQpLUEd5q0qau7\ngC6wUlbc4MIK2rJrl5jYrd/+cZ+B22Vm75mZe+498/B+JZN7zpnnznzu5fLZZ557z72RmUiSVr6f\nG3cASdJwWOiSVAkLXZIqYaFLUiUsdEmqhIUuSZWw0CWpEha6JFXCQpekSqwa5S87++yzc2pqqtHY\n5557jtWrV7cbaIjM2y7ztsu87Vpu3j179vwoM181cGBmjuxrw4YN2dTOnTsbj+0C87bLvO0yb7uW\nmxfYnQ061iUXSaqEhS5JlbDQJakSFrokVcJCl6RKWOiSVAkLXZIqYaFLUiUsdEmqxEhP/X+pm9r6\nlXmPH7jl6hEnkVQjZ+iSVAkLXZIqYaFLUiUsdEmqhIUuSZWw0CWpEha6JFXCQpekSljoklQJC12S\nKmGhS1IlLHRJqoSFLkmVsNAlqRKNCj0i/iAiHo6IhyLitog4JSLOi4hdEfFYRNweESe3HVaStLCB\nhR4Ra4HfB6Yz8xeBk4DrgI8Cn8jMC4BngRvbDCpJOrGmSy6rgFMjYhVwGnAIuAK4o3x/O3DN8ONJ\nkpoaWOiZ+STwF8AT9Ir8CLAHOJyZx8qwg8DatkJKkgaLzDzxgIgzgC8Bvw0cBr5Y9j+Sma8tY84F\n7snM9fNcfzOwGWBycnLDjh07GgU7evQoExMTzW/JmDXJu/fJI/MeX7/29DYinVCN92+XmLddL7W8\nGzdu3JOZ04PGNflM0TcB38vMHwJExJeBXwXWRMSqMktfBzw135UzcxuwDWB6ejpnZmYa3YDZ2Vma\nju2CJnlvWOgzRa8/8fXaUOP92yXmbZd559dkDf0J4NKIOC0iArgSeATYCVxbxmwC7mwnoiSpiSZr\n6LvoPfl5P7C3XGcb8GHggxGxHzgLuLXFnJKkAZosuZCZHwE+ctzhx4FLhp5IkrQknikqSZWw0CWp\nEha6JFXCQpekSljoklQJC12SKmGhS1IlLHRJqoSFLkmVaHSmqBZnaoE34ZKkNjlDl6RKWOiSVAkL\nXZIqYaFLUiUsdEmqhIUuSZWw0CWpEha6JFXCQpekSljoklQJC12SKmGhS1IlLHRJqoTvtrgM/e+q\nuGX9MW7wXRYljZEzdEmqhIUuSZWw0CWpEha6JFXCQpekSljoklQJC12SKmGhS1IlLHRJqoSFLkmV\nsNAlqRIWuiRVwkKXpEpY6JJUiUaFHhFrIuKOiPhOROyLiMsi4syIuDciHiuXZ7QdVpK0sKYz9E8B\n/5SZvwD8MrAP2Arcl5kXAPeVfUnSmAws9Ih4JfBG4FaAzPxpZh4G3g5sL8O2A9e0FVKSNFiTGfr5\nwA+Bz0XEAxHxmYhYDUxm5iGAcvnqFnNKkgaIzDzxgIhp4OvA5Zm5KyI+BfwYuCkz1/SNezYzX7SO\nHhGbgc0Ak5OTG3bs2NEo2NGjR5mYmGh8Q8Zh75NHnt+ePBWe/snSfs76tacPKVFzK+H+7Wfedpm3\nXcvNu3Hjxj2ZOT1oXJNC/3ng65k5VfZ/nd56+WuBmcw8FBHnALOZeeGJftb09HTu3r270Q2YnZ1l\nZmam0dhxOf4zRT+2d2kf0XrglquHFamxlXD/9jNvu8zbruXmjYhGhT5wySUzfwB8PyLmyvpK4BHg\nLmBTObYJuHOJWSVJQ9B0SnkT8PmIOBl4HHg3vX8MvhARNwJPAO9oJ6IkqYlGhZ6ZDwLzTfevHG4c\nSdJSeaaoJFXCQpekSljoklQJC12SKmGhS1IlLHRJqoSFLkmVsNAlqRIWuiRVwkKXpEpY6JJUCQtd\nkiphoUtSJZb2iQwaif4P0Og3jg/EkNR9ztAlqRIWuiRVwkKXpEpY6JJUCQtdkiphoUtSJSx0SaqE\nhS5JlbDQJakSninaAQudESpJi+EMXZIqYaFLUiUsdEmqhIUuSZWw0CWpEha6JFXCQpekSljoklQJ\nTyyqiB9ZJ720OUOXpEpY6JJUCQtdkiphoUtSJSx0SapE40KPiJMi4oGIuLvsnxcRuyLisYi4PSJO\nbi+mJGmQxczQ3w/s69v/KPCJzLwAeBa4cZjBJEmL06jQI2IdcDXwmbIfwBXAHWXIduCaNgJKkppp\nOkP/JPAh4Gdl/yzgcGYeK/sHgbVDziZJWoTIzBMPiHgrcFVmvjciZoA/BN4N/HtmvraMORe4JzPX\nz3P9zcBmgMnJyQ07duxoFOzo0aNMTEws4qaM3t4njzy/PXkqPP2T0fze9WtPH5hn0PiVcP/2M2+7\nzNuu5ebduHHjnsycHjSuyan/lwNvi4irgFOAV9Kbsa+JiFVllr4OeGq+K2fmNmAbwPT0dM7MzDS6\nAbOzszQdOy439J1qv2X9MT62dzTvpHDg+pmBeQaNXwn3bz/ztsu87RpV3oFLLpl5c2auy8wp4Drg\na5l5PbATuLYM2wTc2VpKSdJAy3kd+oeBD0bEfnpr6rcOJ5IkaSkWtUaQmbPAbNl+HLhk+JEkSUvh\nmaKSVAkLXZIqYaFLUiUsdEmqhIUuSZWw0CWpEha6JFXCQpekSljoklQJC12SKmGhS1IlLHRJqoSF\nLkmVGM0nMqwAUwt8OIQkrRTO0CWpEha6JFXCQpekSljoklQJC12SKmGhS1IlLHRJqoSFLkmVsNAl\nqRIWuiRVwkKXpEpY6JJUCQtdkiphoUtSJSx0SaqEhS5JlbDQJakSFrokVcJCl6RKWOiSVAkLXZIq\nYaFLUiUsdEmqxKpxB9DiTW39yrgjSOqggTP0iDg3InZGxL6IeDgi3l+OnxkR90bEY+XyjPbjSpIW\n0mTJ5RiwJTNfB1wKvC8iXg9sBe7LzAuA+8q+JGlMBhZ6Zh7KzPvL9n8D+4C1wNuB7WXYduCatkJK\nkgZb1JOiETEFXATsAiYz8xD0Sh949bDDSZKai8xsNjBiAvgX4M8y88sRcTgz1/R9/9nMfNE6ekRs\nBjYDTE5ObtixY0ej33f06FEmJiYajR2GvU8eWdb1J0+Fp38ypDBDtn7t6S86Nur7d7nM2y7ztmu5\neTdu3LgnM6cHjWtU6BHxMuBu4KuZ+fFy7FFgJjMPRcQ5wGxmXniinzM9PZ27d+9udANmZ2eZmZlp\nNHYYlvvKkS3rj/Gxvd180dCBW65+0bFR37/LZd52mbddy80bEY0KvcmrXAK4Fdg3V+bFXcCmsr0J\nuHMpQSVJw9FkSnk58C5gb0Q8WI79EXAL8IWIuBF4AnhHOxElSU0MLPTM/FcgFvj2lcONI0laKk/9\nl6RKWOiSVIluviyjRb4PiqRaOUOXpEpY6JJUCQtdkiphoUtSJSx0SaqEhS5Jlaj2ZYu+PPEF890X\nW9YfY2b0USS1yBm6JFXCQpekSljoklQJC12SKmGhS1IlLHRJqkS1L1vUYAu9tHO+zyCV1H3O0CWp\nEha6JFXCQpekSljoklQJnxRVq3ziVRodZ+iSVAkLXZIqYaFLUiVW/Bq673veDf53kMbPGbokVcJC\nl6RKrPglFw2fyyfSyuQMXZIq4QxdY7HYE472PnmEG+a5jicoSS9whi5JlXCGrk5ZaOa+Zf2Ig1TE\nt1946XCGLkmVsNAlqRIuuWhFa3s5oebliv7btmX9seefdK7htr1UOUOXpEqsmBm6J7toGEY1o++f\n8Q77d7wUHf/fbe7+9T79/5Y1Q4+IN0fEoxGxPyK2DiuUJGnxljxDj4iTgL8CfgM4CHwzIu7KzEeG\nFU5aqsX+RTfOvwBrXqdfSNdu87DyLPRz/vbNqxedaSmWM0O/BNifmY9n5k+BHcDbhxNLkrRYyyn0\ntcD3+/YPlmOSpDGIzFzaFSPeAfxWZr6n7L8LuCQzbzpu3GZgc9m9EHi04a84G/jRksKNh3nbZd52\nmbddy837msx81aBBy3mVy0Hg3L79dcBTxw/KzG3AtsX+8IjYnZnTS483WuZtl3nbZd52jSrvcpZc\nvglcEBHnRcTJwHXAXcOJJUlarCXP0DPzWET8HvBV4CTgs5n58NCSSZIWZVknFmXmPcA9Q8pyvEUv\n04yZedtl3naZt10jybvkJ0UlSd3ie7lIUiU6WehdfEuBiPhsRDwTEQ/1HTszIu6NiMfK5RnleETE\nX5b8346Ii0ec9dyI2BkR+yLi4Yh4f5fzlgynRMQ3IuJbJfOfluPnRcSukvn28gQ8EfHysr+/fH9q\nDJlPiogHIuLurmctOQ5ExN6IeDAidpdjXX5MrImIOyLiO+WxfFlX80bEheV+nfv6cUR8YOR5M7NT\nX/SeYP0ucD5wMvAt4PUdyPVG4GLgob5jfw5sLdtbgY+W7auAfwQCuBTYNeKs5wAXl+1XAP8BvL6r\neUuGACbK9suAXSXLF4DryvFPA79btt8LfLpsXwfcPobMHwT+Dri77Hc2a/ndB4CzjzvW5cfEduA9\nZftkYE2X8/blPgn4AfCaUecdyw0ecGdcBny1b/9m4OZx5ypZpo4r9EeBc8r2OcCjZftvgHfON25M\nue+k9547KyXvacD9wK/QOxlj1fGPDXqvrrqsbK8q42KEGdcB9wFXAHeX/zE7mbUv83yF3snHBPBK\n4HvH309dzXtcxt8E/m0cebu45LKS3lJgMjMPAZTLV5fjnbkN5c/7i+jNeDudtyxhPAg8A9xL7y+1\nw5l5bJ5cz2cu3z8CnDXCuJ8EPgT8rOyfRXezzkngnyNiT/TO4IbuPibOB34IfK4sa30mIlZ3OG+/\n64DbyvZI83ax0GOeYyvtpTiduA0RMQF8CfhAZv74REPnOTbyvJn5v5n5Bnqz30uA1803rFyOLXNE\nvBV4JjP39B8+QZ5O3L/A5Zl5MfAW4H0R8cYTjB135lX0ljj/OjMvAp6jt2SxkHHn7YXoPW/yNuCL\ng4bOc2zZebtY6I3eUqAjno6IcwDK5TPl+NhvQ0S8jF6Zfz4zv1wOdzZvv8w8DMzSW1tcExFz50v0\n53o+c/n+6cB/jSji5cDbIuIAvXcZvYLejL2LWZ+XmU+Vy2eAv6f3j2ZXHxMHgYOZuavs30Gv4Lua\nd85bgPsz8+myP9K8XSz0lfSWAncBm8r2Jnpr1XPHf6c8k30pcGTuz65RiIgAbgX2ZebHu54XICJe\nFRFryvapwJuAfcBO4NoFMs/dlmuBr2VZjGxbZt6cmesyc4re4/NrmXl9F7POiYjVEfGKuW1667wP\n0dHHRGb+APh+RFxYDl0JPNLVvH3eyQvLLXO5Rpd3HE8aNHhS4Sp6r8z4LvDH485TMt0GHAL+h96/\nrjfSWwe9D3isXJ5Zxga9D//4LrAXmB5x1l+j9+fbt4EHy9dVXc1bMvwS8EDJ/BDwJ+X4+cA3gP30\n/ox9eTl+StnfX75//pgeFzO88CqXzmYt2b5Vvh6e+/+q44+JNwC7y2PiH4AzOp73NOA/gdP7jo00\nr2eKSlIlurjkIklaAgtdkiphoUtSJSx0SaqEhS5JlbDQJakSFrokVcJCl6RK/B8R6oHPc7tTCgAA\nAABJRU5ErkJggg==\n",
      "text/plain": [
<<<<<<< HEAD
       "<matplotlib.figure.Figure at 0x205e8f28940>"
=======
       "<matplotlib.figure.Figure at 0x29856ebd358>"
>>>>>>> 0cfc41ccb2ba7cad31e5c8173b425537a33b9ff6
      ]
     },
     "metadata": {},
     "output_type": "display_data"
    }
   ],
   "source": [
    "df['LoanAmount'].hist(bins=50) # histogram of loan amount"
   ]
  },
  {
   "cell_type": "code",
<<<<<<< HEAD
   "execution_count": 407,
=======
   "execution_count": 390,
>>>>>>> 0cfc41ccb2ba7cad31e5c8173b425537a33b9ff6
   "metadata": {},
   "outputs": [
    {
     "data": {
      "text/plain": [
<<<<<<< HEAD
       "<matplotlib.axes._subplots.AxesSubplot at 0x205e8f83a90>"
      ]
     },
     "execution_count": 407,
=======
       "<matplotlib.axes._subplots.AxesSubplot at 0x29856ebdeb8>"
      ]
     },
     "execution_count": 390,
>>>>>>> 0cfc41ccb2ba7cad31e5c8173b425537a33b9ff6
     "metadata": {},
     "output_type": "execute_result"
    },
    {
     "data": {
      "image/png": "iVBORw0KGgoAAAANSUhEUgAAAXoAAAD8CAYAAAB5Pm/hAAAABHNCSVQICAgIfAhkiAAAAAlwSFlz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\n",
      "text/plain": [
<<<<<<< HEAD
       "<matplotlib.figure.Figure at 0x205e8f50438>"
=======
       "<matplotlib.figure.Figure at 0x29856ee4518>"
>>>>>>> 0cfc41ccb2ba7cad31e5c8173b425537a33b9ff6
      ]
     },
     "metadata": {},
     "output_type": "display_data"
    }
   ],
   "source": [
    "df.boxplot(column='LoanAmount') # boxplot of loan amount"
   ]
  },
  {
   "cell_type": "markdown",
   "metadata": {},
   "source": [
    "Again, there are some outliers. We will need to perform some data munging later on both ApplicantIncome and LoanAmount. The latter has some missing values on top of the extreme ones."
   ]
  },
  {
   "cell_type": "code",
<<<<<<< HEAD
   "execution_count": 408,
=======
   "execution_count": 391,
>>>>>>> 0cfc41ccb2ba7cad31e5c8173b425537a33b9ff6
   "metadata": {},
   "outputs": [
    {
     "name": "stdout",
     "output_type": "stream",
     "text": [
      "Frequency Table for Credit History:\n",
      "0.0     89\n",
      "1.0    475\n",
      "Name: Credit_History, dtype: int64\n",
      "\n",
      "Probability of getting loan for each Credit History class:\n",
      "                Loan_Status\n",
      "Credit_History             \n",
      "0.0                0.078652\n",
      "1.0                0.795789\n"
     ]
    }
   ],
   "source": [
    "# creating a count and a pivot table for loan status and credit history\n",
    "\n",
    "temp1 = df['Credit_History'].value_counts(ascending=True)\n",
    "temp2 = df.pivot_table(values='Loan_Status', index=['Credit_History'], aggfunc=lambda x: \n",
    "x.map({'Y':1, 'N':0}).mean())\n",
    "    \n",
    "print('Frequency Table for Credit History:')\n",
    "print(temp1)\n",
    "\n",
    "print('\\nProbability of getting loan for each Credit History class:')\n",
    "print(temp2)"
   ]
  },
  {
   "cell_type": "code",
<<<<<<< HEAD
   "execution_count": 409,
=======
   "execution_count": 392,
>>>>>>> 0cfc41ccb2ba7cad31e5c8173b425537a33b9ff6
   "metadata": {},
   "outputs": [
    {
     "data": {
      "text/plain": [
<<<<<<< HEAD
       "<matplotlib.axes._subplots.AxesSubplot at 0x205e9116630>"
      ]
     },
     "execution_count": 409,
=======
       "<matplotlib.axes._subplots.AxesSubplot at 0x298570bc9b0>"
      ]
     },
     "execution_count": 392,
>>>>>>> 0cfc41ccb2ba7cad31e5c8173b425537a33b9ff6
     "metadata": {},
     "output_type": "execute_result"
    },
    {
     "data": {
      "image/png": "iVBORw0KGgoAAAANSUhEUgAAAhAAAAEdCAYAAABddl7KAAAABHNCSVQICAgIfAhkiAAAAAlwSFlz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\nrkJggg==\n",
      "text/plain": [
<<<<<<< HEAD
       "<matplotlib.figure.Figure at 0x205e907db70>"
=======
       "<matplotlib.figure.Figure at 0x29856ffe550>"
>>>>>>> 0cfc41ccb2ba7cad31e5c8173b425537a33b9ff6
      ]
     },
     "metadata": {},
     "output_type": "display_data"
    },
    {
     "data": {
      "image/png": "iVBORw0KGgoAAAANSUhEUgAAAXoAAAERCAYAAAB1k2wJAAAABHNCSVQICAgIfAhkiAAAAAlwSFlz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\nCetSELIksE8AAAAASUVORK5CYII=\n",
      "text/plain": [
<<<<<<< HEAD
       "<matplotlib.figure.Figure at 0x205e9106160>"
=======
       "<matplotlib.figure.Figure at 0x298570c4208>"
>>>>>>> 0cfc41ccb2ba7cad31e5c8173b425537a33b9ff6
      ]
     },
     "metadata": {},
     "output_type": "display_data"
    }
   ],
   "source": [
    "# plotting the tables in bar plots\n",
    "\n",
    "fig = plt.figure(figsize=(8,4))\n",
    "\n",
    "ax1 = fig.add_subplot(121)\n",
    "ax1.set_xlabel('Credit_History')\n",
    "ax1.set_ylabel('Count of Applicants')\n",
    "ax1.set_title(\"Applicants by Credit_History\")\n",
    "temp1.plot(kind='bar', ax=ax1)\n",
    "\n",
    "ax2 = fig.add_subplot(122)\n",
    "temp2.plot(kind='bar', ax=ax2)\n",
    "ax2.set_xlabel('Credit_History')\n",
    "ax2.set_ylabel('Probability of getting loan')\n",
    "ax2.set_title('Probability of getting loan by credit history')\n",
    "\n",
    "temp3 = pd.crosstab(df['Credit_History'], df['Loan_Status'])\n",
    "temp3.plot(kind='bar', stacked=True, color=['red', 'blue'], grid=False)"
   ]
  },
  {
   "cell_type": "markdown",
   "metadata": {},
   "source": [
    "From here, we see that there's a greater chance of securing loan if the applicant has a valid credit history (eight-fold) and vice versa."
   ]
  },
  {
   "cell_type": "code",
<<<<<<< HEAD
   "execution_count": 410,
=======
   "execution_count": 393,
>>>>>>> 0cfc41ccb2ba7cad31e5c8173b425537a33b9ff6
   "metadata": {},
   "outputs": [
    {
     "data": {
      "text/plain": [
<<<<<<< HEAD
       "<matplotlib.axes._subplots.AxesSubplot at 0x205e916f208>"
      ]
     },
     "execution_count": 410,
=======
       "<matplotlib.axes._subplots.AxesSubplot at 0x2985331cda0>"
      ]
     },
     "execution_count": 393,
>>>>>>> 0cfc41ccb2ba7cad31e5c8173b425537a33b9ff6
     "metadata": {},
     "output_type": "execute_result"
    },
    {
     "data": {
      "image/png": "iVBORw0KGgoAAAANSUhEUgAAAXoAAAFDCAYAAAA01cX1AAAABHNCSVQICAgIfAhkiAAAAAlwSFlz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\n",
      "text/plain": [
<<<<<<< HEAD
       "<matplotlib.figure.Figure at 0x205e7a86160>"
=======
       "<matplotlib.figure.Figure at 0x29851c9c828>"
>>>>>>> 0cfc41ccb2ba7cad31e5c8173b425537a33b9ff6
      ]
     },
     "metadata": {},
     "output_type": "display_data"
    }
   ],
   "source": [
    "# bar plot of loan status against credit history and gender\n",
    "\n",
    "temp4 = pd.crosstab([df['Credit_History'], df['Gender']], df['Loan_Status'])\n",
    "temp4.plot(kind='bar', stacked=True, color=['red', 'blue'], grid=False)"
   ]
  },
  {
   "cell_type": "markdown",
   "metadata": {},
   "source": [
    "It seems that gender does not play too much of a role in determining loan success compared to credit history i.e. a female with a credit history has roughly the same chance of securing a loan compared to a male with credit history. The opposite is true for those with no credit history."
   ]
  },
  {
   "cell_type": "markdown",
   "metadata": {
    "collapsed": true
   },
   "source": [
    "Now, we will need to clean the data a bit or what is commonly referred to as data munging. First, let us look at the missing data."
   ]
  },
  {
   "cell_type": "code",
<<<<<<< HEAD
   "execution_count": 411,
=======
   "execution_count": 394,
>>>>>>> 0cfc41ccb2ba7cad31e5c8173b425537a33b9ff6
   "metadata": {},
   "outputs": [
    {
     "data": {
      "text/plain": [
       "Loan_ID               0\n",
       "Gender               13\n",
       "Married               3\n",
       "Dependents           15\n",
       "Education             0\n",
       "Self_Employed        32\n",
       "ApplicantIncome       0\n",
       "CoapplicantIncome     0\n",
       "LoanAmount           22\n",
       "Loan_Amount_Term     14\n",
       "Credit_History       50\n",
       "Property_Area         0\n",
       "Loan_Status           0\n",
       "dtype: int64"
      ]
     },
<<<<<<< HEAD
     "execution_count": 411,
=======
     "execution_count": 394,
>>>>>>> 0cfc41ccb2ba7cad31e5c8173b425537a33b9ff6
     "metadata": {},
     "output_type": "execute_result"
    }
   ],
   "source": [
    "df.apply(lambda x: sum(x.isnull()), axis=0) # applying lambda function to count the numbers of missing values"
   ]
  },
  {
   "cell_type": "code",
<<<<<<< HEAD
   "execution_count": 412,
=======
   "execution_count": 395,
>>>>>>> 0cfc41ccb2ba7cad31e5c8173b425537a33b9ff6
   "metadata": {},
   "outputs": [
    {
     "data": {
      "text/plain": [
<<<<<<< HEAD
       "<matplotlib.axes._subplots.AxesSubplot at 0x205e9196710>"
      ]
     },
     "execution_count": 412,
=======
       "<matplotlib.axes._subplots.AxesSubplot at 0x29857155c88>"
      ]
     },
     "execution_count": 395,
>>>>>>> 0cfc41ccb2ba7cad31e5c8173b425537a33b9ff6
     "metadata": {},
     "output_type": "execute_result"
    },
    {
     "data": {
      "image/png": "iVBORw0KGgoAAAANSUhEUgAAAYgAAAEdCAYAAAAW6PDWAAAABHNCSVQICAgIfAhkiAAAAAlwSFlz\nAAALEgAACxIB0t1+/AAAADl0RVh0U29mdHdhcmUAbWF0cGxvdGxpYiB2ZXJzaW9uIDIuMS4wLCBo\ndHRwOi8vbWF0cGxvdGxpYi5vcmcvpW3flQAAIABJREFUeJzt3XucVVX9//HX20HBRsULOoGjDhnV\nCBYq2UUsRsrSSrNvpgPfBJ1E+yXVt/qKxbeyb843tbRMSqXGQAPULMy8JAYzFZo3vKLHCykKgRe8\nNiAo4+f3x1oH9hz2zJwZzuHMmfk8H4/zOPvs69pr77M/e6+99toyM5xzzrlc25U6Ac4553onDxDO\nOedSeYBwzjmXygOEc865VB4gnHPOpfIA4ZxzLpUHiCKSNEvSOaVOR6l1lg+SJktaXKDlLJf0uqQr\nCzQ/k/TOQsyrG8s8XNJj23KZhZTMM0k7SvqTpFcl/a7UaQOQdLak327jZdbEfBmQMqxBUmsp9rV8\n9IsAkThwtEp6WdKNkvYpdbqSeusOUoY+Y2ZfzP6QZInuFknr436Q/fypNMncnL7kdjezv5vZuws1\n7zzHq5G0PPF7rKTb44H9JUm3SXp/D5LweaAK2MPMju9k+ZMlteVsl1ZJw3qwzF4v7ofjAMysycx2\nKnGSOtQvAkT0mbghhgLPAReXOD1Fo6A/bdvuOMPMdkp8PlPqBPUmknYBbiD8P3YH9gZ+AGzowez2\nAx43s415jPuPnO2yk5mt6sEyXQH1u4OIma0HrgUOyPaTNFjSFZJekPS0pP/JHmAlXSLp2sS450la\nGA/C4yStlPQdSWvilcrEjpYt6VRJy+JZ2fXZMyRJf4ujPBDPnE5ImbZC0gVxOU9JOiN52RrPShol\n3QasA94haVhczktxuacm5teu2Ce7LonfyyV9W9Ij8arrN5IGJYZ/WtL9kl6JZ5vvTQw7SNK9kv4t\n6Wpg03QdZ40ujmesj0oaH3seL2lJzojflHRdF/PrEUn/LWm1pFWSTskZ1iLpS4nf7YrGJI2UdGvM\n6+ckfSf2P1TSP2I+rZY0Q9IOcdgW2z1lO9TGZb8i6WFJxySGzZL0C4Ur4n9LulPS/luZDe8CMLN5\nZtZmZq+b2QIzezCx3FMkZeJ+cYuk/VLy8gfA94AT4ro19DRBcV/8b0kPSlorqUlSlaSb43r/RdJu\ncdxscc6UuB1XS/pmJ/M+JubrKzGfa2P//5b0+5xxL5b0s9g9OKZjtaR/STpHUkUcViHpJ/G/+iTw\nqZ6ue8mZWZ//AMuBj8XutwGzgSsSw68A/gjsDNQAjwMNifEfByYDhwNrgOo4bBywEbgQGAh8FFgL\nvDsOnwWcE7uPiNMeHMe9GPhbIg0GvLOTdTgdeASoBnYD/hKnGRCHtwDPACOBAcD2wF+BXxIO0KOB\nF4DxuWlLrMvKnDxbCuxDOJO8LbEuBwPPAx8AKoBJcfyBwA7A08B/xTR8Hngzuayc9Zoc8zA7/gnA\nq3GZA4GXgNrE+PcB/9HVdu5geAvwpQ6GfZJwZTkKqATmJrdJ7rQx3Ytj987AauCbMa93Bj4Qhx0C\nfDBukxogA3y9o+2e3A4xP5YB34n5egTwb9rvXy8Bh8b5zwGu2sr/yi7Ai4T/yFHAbjnDPxvTVBuX\n+T/A7WnrA5wN/DaPZW7Ky0626x2E4qq94753L3BQ3EcWAd+P49bENMyL2/FAwn7/sdw0EYLhWuDj\nMa/PjOu2A6GkYS2waxx3QFzuIfH3dcBlcRl7AXcBpyX+q4+y+b/TTOK/2sE6dvr/L9Wn5AnYJisZ\ndrBW4BXCwWgVcGAcVkG4fD4gMf5pQEvi96Hxj/g0UJ/oPy7OrzLR7xrgu7F7FpsPqk3A+YnxdiIc\nOGvy2UHin+C0xO+PsWWA+N/E8H2ANmDnRL8fAbNy05ZYl9wAcXri99HAP2P3JcAPc9L3GCFAfiTm\nrxLDbqfzAJE7/l3AFxPLaozdI4GXgYGdbOeuAsS6uB9kPz+Mwy4Hzk2M+y7yDxD1wH157otfB+Yn\nfncWIA4HngW2SwyfB5yd2Ia/ztlGjxbg/1Ib572SsH9fD1TFYTcTT57i7+1inu6Xuz50L0BszNku\n/8zZrhMTv38PXJL4PRW4LnbXxDS8JzH8fKApN03Ad4FrctblX8C4xLqeGrs/DTwSu6sIx4wdE9PW\nA82J/2ryv3MkZRog+lMR02fNbFfCGccZwF8lvR0Ywuaz3qynCWcqAJjZXcCTgAgBIOllM1ubM23a\nzbVhyWWYWSvhTG3vlHHTDANWJH6vSBkn2W8Y8JKZ/TsnbfkuL3d+yfXaD/hmvCx/RdIrhIA0LH7+\nZXGvT0zbmbTxs8uaDUyQJOCLhD90T8rDs75qZrsmPt+N/XPzt6s0J+0D/DNtgKR3SbpB0rOSXgP+\nj7DP5WMYsMLM3spJV3IbPpvoXkc48dgqZpYxs8lmVk24ohoG/CwO3g+4KLHdXyL8L7qzX6W5I2e7\n5BaVPZfofj3ld+56d7TvJuX+J9+K02XXZTbwn7H7P4Fs7bj9CFccqxP5cBnhSiI7357uS71KfwoQ\nAFgoV/0D4ex6LKHY503CRs/al3AmAYCkrxACyyrCZWjSbpIqc6ZNu7m2KrmMOM0eyeV0YTWheCkr\nrRZW8iC7Cthd0s45acsuby2h+Czr7SnzSy4juV4rCGf1yT/028xsXkzn3vGAnpy2M2njrwIwszuA\nNwhn0xPY/CcttNVsub5JneXXCqCjsv9LCMUNI8xsF0JxkToYN9cqYB+1r3DQbt8sNjN7lHA1MSr2\nWkG4kk1u+x3N7PZtlaY8dbTvJuX+JxWny+bvdcB7JY0iXEHMif1XEK4ghiTyYBczGxmHd7UvlY1+\nFyAUHEsox8+YWRvhqqBR0s7xhts3gN/G8d8FnEM4g/gicKak0Tmz/YGkHSQdTtiR0up8zwVOljRa\n0kDCmeSdZrY8Dn8OeEcnSb8G+JqkvSXtCkzrbD3NbAWhaOdHkgYp3ERuYPNOfj9wtKTd45XU11Nm\n8xVJ1ZJ2JxzYro79fwWcLukDMT8rJX0qBqN/EIoLvippgKTPEYroOrNXHH97SccTijhuyhk+C9ho\nZgV5ZiLFNcBkSQdIehvw/dh/Sdxe9wOfk/Q2hWqpyZuuNwBvl/R1SQPjfvSBOGxn4DWgVdJ7gC/n\nLLez7X4nITCdGfNmHPAZ4Ko4/J3ASfmsnEL9/5Y8xnuPQkWA6vh7H0LxyR1xlEuBb0saGYcPjtus\nt/lu3FYjgZPZvO8mXQN8StJ4SdsT7iFtIPxvsM0VWuYCd5nZM7H/amABcIGkXSRtJ2l/SR9NzPer\n8b+zG3BWEdezqPpTgPiTpFbCn7URmGRmD8dhUwl/xCeBxYQd4nKFGkK/Bc4zswfM7AnCgfLKeNCA\ncIn/MuFsZA6h7PHR3IWb2UJCmefvCWcY+wMnJkY5G5gdL1m/kJL+XxF2ygcJN2pvIhyI2zpZ53pC\nmewqYD7hRt6tcdiVwAOE8t0FpP+B5sZhT8bPOXFd7gFOBWbEdV9GKEfGzN4APhd/v0y46fyHTtII\n4UA4gnA11wh83sxeTAxvjetRiKuHGWpf135JTPfNhGKURXF9HojjG3AM8FPClcxzhKKHbKAlFuN9\nnHDwfhZ4AqiLg79FuPL5N2Eb5ubz2XSw3WNeHkO4WbyGUOHgpLT9Kw/7ECoadOXfhMoHd0paSwgM\nSwkHT8xsPnAecFUsMlsa07e1PqQtn4PoybMXWX8lbMeFwE/MbEHuCGb2GOHE72JC/n6GUB3+jcRo\nswk3unP3vZMIRdOPEPbzawk3tiFs51sI+9C9dL3/916lvglSzh9ybuxu42UfBTxdxPkvp5Mbvtt4\nXZ8mlK+PyOl/KuEg8BLhRuoywgnAbOAiQlHAa8AS4PDEdGcTzvKuIBwQHwbG5Mz7e4QD6oXADTnD\nZhEO1jcTgtdthCKnnxEOFo8CByXGryXc5H4lLuuYxLAWOrj5HX8boVbME3HevyAUUdUC6wknCK3A\nK13k4f2EB9ZKvj2LvK/U0MUN4W7Ob9+47+1SpPSeHPeL9cA7Sp1/uZ/+dAVR1hSaLTg6FtvsTSgC\nmV/qdG0jOwOPWbiCA0DSEYRaWV8gnLk9DayyUBY8CbibULV3d8KV0O+UeI6DcGZ+FbArIbjMyFnm\nSYSrhDnAJyRV5Qz/AqGK5xBCscQ/CGeLQwhnkxfGdG4P/IlwJbYX4Wp1jqTuPC39aeD9wPvicj9h\nZhlC4Mg+YLZrZzMws9HW/qrMdSHe+/kGoerwa8VYhpn9xsI9jEFm9mQxlrE1PECUDxGeaH2ZUMSU\nIZzl9mkKTUDsQij7TpoIXG5m91qo1fRtQjFFDYCZ/dbMXjSzjWZ2AaGSQfKgvNjMbrJwD+pKwsE3\nu8yxhJuX15jZEkINpQk5y59vZksslFPPB9ab2RVxflcT6uhDeAZiJ0IV2jfMbBHhnkV9N7LhXDN7\nxUIZeDMh8JUVSZemFCG1Ssrdrr1CrETyGqHo8PtdjN5nbdF4lMufmbXQvmZRMZe1jnAWuU2YWc22\nWlZnzCzbTlBuNdJhhDP27HitkrLVhpcrPD37pTieEYJMsnppbvXQQZIGWGgWYhKwwMzWxOFzY7+f\nJqbJt9plPlVVu1LwqqzbmpmdTrjiKfZylpN/LbHO5rOWMsznQvMA4cpVh9WGY22yacB44GEze0vS\ny+Rx4JC0I6EYp0JS9sA8ENhV0vvM7IGOp+4wnftI2i4RJPYlPJ0P+VU37oh1PYpzPedFTK5cbB+r\n6w6K9xKuoeNqwzsTani9AAyQ9D3CFUQ+Pku48XsAoShnNOGG8N/Js0ppjq6qqnZWfbYrzwHVim07\nOVdoHiBcubiJUHST/RxOx9WGbyHUMHqcUJyznvQnz9NMAn5jZs+Y2bPZD+Em9kSltOnfGeu6qmqH\n1WfzsIhQK+pZSWu6Gtm57lKsauWcc86141cQzjnnUnmAcM45l8oDhHPOuVQeIJxzzqXyAOGccy5V\nr3hQbsiQIVZTU1PqZORl7dq1VFZWdj2i6zbP2+LwfC2OcsvXJUuWrDGzPbszTa8IEDU1Ndxzzz2l\nTkZeWlpaGDduXKmT0Sd53haH52txlFu+Sur2m+28iMk551wqDxDOOedSeYBwzjmXygOEc865VF0G\nCEnvlnR/4vNafDn77pJulfRE/N4tji9JP5e0TNKDkg4u/mo455wrtC4DhJk9Fl9XOBo4hPDCkvnA\nWcBCMxtBeDH4WXGSowgvoB8BTAEuKUbCt7V58+YxatQoxo8fz6hRo5g3b16pk+Scc0XV3Wqu44F/\nmtnTko4FxsX+swkvX58GHAtcYaGZ2Dsk7SppqJmtLlCat7l58+Yxffp0mpqaaGtro6KigoaG0Gx/\nfX133hzpnHPlo7v3IE4EsqfOVdmDfvzeK/bfm/Zt76+ke69X7HUaGxtpamqirq6OAQMGUFdXR1NT\nE42NjaVOmnPOFU3eVxDxrVXHEF4O3+moKf22eOmEpCmEIiiqqqpoaWnJNynbXCaToa2tjZaWFlpb\nW2lpaaGtrY1MJtOr011usnnrCsvztTj6Q752p4jpKOBeM8u+nP25bNGRpKHA87H/SmCfxHTVhPfy\ntmNmM4GZAGPGjLHe/ERibW0tFRUVjBs3btPTk83NzdTW1pbVk5S9Xbk9mVouPF+Loz/ka3eKmOrZ\nXLwEcD3h9YzE7z8m+p8UazN9EHi1nO8/AEyfPp2Ghgaam5vZuHEjzc3NNDQ0MH369FInzTnniiav\nKwhJbwM+DpyW6H0ucI2kBuAZ4PjY/ybgaGAZocbTyQVLbYlkb0RPnTqVTCZDbW0tjY2NfoPaOden\n5RUgzGwdsEdOvxcJtZpyxzXgKwVJXS9SX19PfX19v7isdM458CepnXPOdcADhHPOuVQeIJxzzqXy\nAOGccy6VBwjnnHOpPEA455xL5QHClZy3lOtc79Td1lydKyhvKde53suvIFxJeUu5zvVeHiBcSWUy\nGcaOHduu39ixY8lkMiVKkXMuywOEK6na2loWL17crt/ixYupra0tUYqcc1keIFxJeUu5zvVefpPa\nlZS3lOtc7+UBwpWct5TrXO/kRUzOOedSeYBwzjmXygOEc865VB4gnHPOpfIA4ZxzLlVeAULSrpKu\nlfSopIykD0naXdKtkp6I37vFcSXp55KWSXpQ0sHFXQXnnHPFkO8VxEXAn83sPcD7gAxwFrDQzEYA\nC+NvgKOAEfEzBbikoCkuEW9xtHg8b53rnbp8DkLSLsBHgMkAZvYG8IakY4FxcbTZQAswDTgWuMLM\nDLgjXn0MNbPVBU/9NuItjhaP561zvVc+VxDvAF4AfiPpPkm/llQJVGUP+vF7rzj+3sCKxPQrY7+y\n5S2OFo/nrXO9Vz5PUg8ADgammtmdki5ic3FSGqX0sy1GkqYQiqCoqqqipaUlj6SURiaToa2tjZaW\nFlpbW2lpaaGtrY1MJtOr010OPG+LL5uvrrD6Rb6aWacf4O3A8sTvw4EbgceAobHfUOCx2H0ZUJ8Y\nf9N4HX0OOeQQ681GjhxpixYtMjOz5uZmMzNbtGiRjRw5soSp6hs8b4svm6+usMotX4F7rIvjfe6n\nyyImM3sWWCHp3bHXeOAR4HpgUuw3Cfhj7L4eOCnWZvog8KqV8f0H8BZHi8nz1rneK9/G+qYCcyTt\nADwJnEy4f3GNpAbgGeD4OO5NwNHAMmBdHLeseYujxeN561zvpXDlUVpjxoyxe+65p9TJyIu3OFo8\nnrfF4flaHOWWr5KWmNmY7kzjT1I755xL5QEiT/4wl3Ouv/EXBuXBH+ZyzvVHfgWRB3+YyznXH3mA\nyEMmk2Hs2LHt+o0dO5ZMJlOiFDnnXPF5gMhDbW0tixcvbtdv8eLF1NbWlihFzjlXfB4g8uAPcznn\n+iO/SZ0Hf5jLOdcfeYDIU319PfX19WX3cIxzzvWUFzE555xL5QHCOedcKg8QzjnnUnmAcM45l8oD\nhHPOuVQeIJxzzqXyAOGccy6VBwjnnHOpPEA455xL5QHCOedcKg8QzjnnUuUVICQtl/SQpPsl3RP7\n7S7pVklPxO/dYn9J+rmkZZIelHRwMVfAOedccXTnCqLOzEab2Zj4+yxgoZmNABbG3wBHASPiZwpw\nSaESW0r+TmrnXH+zNUVMxwKzY/ds4LOJ/ldYcAewq6ShW7Gckps3bx6nnXYajz/+OG+99RaPP/44\np512mgcJ51yflm+AMGCBpCWSpsR+VWa2GiB+7xX77w2sSEy7MvYrW2eccQbr1q3j3HPP5eabb+bc\nc89l3bp1nHHGGaVOmnPOFU2+74M4zMxWSdoLuFXSo52Mq5R+tsVIIdBMAaiqqqKlpSXPpGx7L730\nEqeddhoHH3wwra2tHHzwwXzpS1/isssu69XpLjetra2en0Xg+Voc/SFf8woQZrYqfj8vaT5wKPCc\npKFmtjoWIT0fR18J7JOYvBpYlTLPmcBMgDFjxlhvfwnPsccey7hx4za9MOj111/nsssu85cHFZC/\njKk4PF+Loz/ka5dFTJIqJe2c7QaOBJYC1wOT4miTgD/G7uuBk2Jtpg8Cr2aLosrVgAEDOO6449hh\nhx2oq6tjhx124LjjjmPAAH8hXyF4BQDneqd8jnBVwHxJ2fHnmtmfJd0NXCOpAXgGOD6OfxNwNLAM\nWAecXPBUb2O1tbU89NBD7LTTTrz55psMHDiQ1tZWDjzwwFInrezNmzeP6dOn09TURFtbGxUVFTQ0\nNAD4O7+dK7EuryDM7Ekze1/8jDSzxtj/RTMbb2Yj4vdLsb+Z2VfMbH8zO9DM7in2ShTb448/zmGH\nHcabb74JwJtvvslhhx3G448/XuKUlb/Gxkaampqoq6tjwIAB1NXV0dTURGNjY6mT5ly/509S52HD\nhg0sWLCA9evX09zczPr161mwYAEbNmwoddLKXiaTYezYse36jR07lkwmU6IUOeeyPEDkYeDAgVx6\n6aXt+l166aUMHDiwRCnqO2pra1m8eHG7fosXL6a2trZEKXLOZfld1jyceuqpTJs2DYADDjiACy+8\nkGnTpnH66aeXOGXlb/r06TQ0NGy6B9Hc3ExDQ4MXMTnXC3iAyMPFF18MwHe+8x02bNjAwIEDOf30\n0zf1dz2XvRE9depUMpkMtbW1NDY2+g1q53oBL2LK08UXX9zuHoQHh8Kpr69n6dKlLFy4kKVLl3pw\ncK6X8ADhnHMulQcI55xzqTxAOOecS+UBwjnnXCoPEM4551J5gMiTNyjnnOtv/DmIPHiDcs65/siv\nIPLgDco55/ojDxB58AblnHP9kQeIPHiDcs65/sgDRB6yDco1NzezcePGTQ3KTZ8+vdRJc865ovGb\n1HnwBuWcc/2RB4g81dfXU19f3y9eVO6cc+BFTM455zqQd4CQVCHpPkk3xN/DJd0p6QlJV0vaIfYf\nGH8vi8NripN055xzxdSdK4ivAcl6necBPzWzEcDLQEPs3wC8bGbvBH4ax3OuQ/6UunO9U173ICRV\nA58CGoFvSBJwBDAhjjIbOBu4BDg2dgNcC8yQJDOzwiXb9RX+lLpzvVe+VxA/A84E3oq/9wBeMbON\n8fdKYO/YvTewAiAOfzWO79wW/Cl153qvLq8gJH0aeN7Mlkgal+2dMqrlMSw53ynAFICqqipaWlry\nSW/Jtba2lk1ay0Emk6GtrY2WlpZNedvW1kYmk/F8LhDfZ4ujP+RrPkVMhwHHSDoaGATsQrii2FXS\ngHiVUA2siuOvBPYBVkoaAAwGXsqdqZnNBGYCjBkzxsql6qhXcy2s2tpaKioqGDdu3Ka8bW5upra2\n1vO5QHyfLY7+kK9dFjGZ2bfNrNrMaoATgUVmNhFoBj4fR5sE/DF2Xx9/E4cv8vsPriP+lLpzvdfW\nPCg3DbhK0jnAfUBT7N8EXClpGeHK4cStS6Lry+rr67n99ts56qij2LBhAwMHDuTUU0/1G9TO9QLd\nChBm1gK0xO4ngUNTxlkPHF+AtLl+YN68eVx99dUMHTqUp59+mqFDh3L11Vfz4Q9/2IOEcyXmT1Ln\nyevqF8eZZ55JRUUFl19+OQsWLODyyy+noqKCM888s9RJc67f87aY8uB19Ytn5cqVLFiwgLq6uk03\n/a644gqOPPLIUifNuX7PryDy4HX1nXP9kQeIPGQyGVauXNmuiGnlypX+RrkCqK6uZtKkSe1qMU2a\nNInq6upSJ825fs+LmPIwbNgwpk2bxpw5czYVMU2cOJFhw4aVOmll7/zzz+drX/sap5xyCs888wz7\n7rsvGzdu5IILLih10pzr9/wKIk+5j3L4ox2FUV9fz0UXXURlZSUAlZWVXHTRRX5vx7lewK8g8rBq\n1SpOO+20dnX1TznlFC677LJSJ61P8JcxOdc7eYDIw7Bhw5g/fz4333zzpiKmCRMmeBGTc65P8yKm\nPIUWzjv+7ZxzfY1fQeRh1apVzJo1i6lTp5LJZKitreW8885j8uTJpU6ac84VjV9B5KG2tpbq6mqW\nLl3KwoULWbp0KdXV1dTW1pY6ac45VzQeIPLgLY465/ojL2LKg7c46pzrjzxA5GHevHnceOON7Wox\nNTQ0eIujzrk+zQNEHhobG5kwYUK7m9QTJkygsbHRA4Rzrs/yAJGHRx55hOeff57KykrMjLVr1zJz\n5kzWrFlT6qQ551zR+E3qPFRUVLBu3bp2/datW0dFRUWJUuScc8XnVxB52LhxIxs3bmT9+vWYGStW\nrKCtra3UyXLOuaLyKwjnnHOpPEDkSRJDhgwBYMiQId7UhnOuz+syQEgaJOkuSQ9IeljSD2L/4ZLu\nlPSEpKsl7RD7D4y/l8XhNcVdhW3DzHjxxRcBePHFF725b+dcn5fPFcQG4Agzex8wGvikpA8C5wE/\nNbMRwMtAQxy/AXjZzN4J/DSO1yfsscceSGKPPfYodVKcc67ougwQFrTGn9vHjwFHANfG/rOBz8bu\nY+Nv4vDx6iPlMWvWrMHMvHqrc65fyKsWk6QKYAnwTuAXwD+BV8xsYxxlJbB37N4bWAFgZhslvQrs\nAazJmecUYApAVVUVLS0tW7Ui20K25lKyBlM5pLtctLa2en4WgedrcfSHfM0rQJhZGzBa0q7AfCCt\nGdNsoXza1cIWBfZmNhOYCTBmzBjrzW8Sq6iooK2tjbe//e08//zz7LXXXjz77LNUVFT4G9AKyN8o\nVxyer8XRH/K1W7WYzOwVoAX4ILCrpGyAqQZWxe6VwD4Acfhg4KVCJLZU2traGDx4MIMGDcLMGDRo\nEIMHD/ZnIZxzfVo+tZj2jFcOSNoR+BiQAZqBz8fRJgF/jN3Xx9/E4YusD1T5+fKXv0xlZSWSqKys\n5Mtf/nKpk1Q2JOX1qaury2s8l5958+YxatQoxo8fz6hRo5g3b16pk+TKTD5FTEOB2fE+xHbANWZ2\ng6RHgKsknQPcBzTF8ZuAKyUtI1w5nFiEdG9T1dXVzJ49mzlz5mxqzXXixIlUV1eXOmllId/zg5qz\nbmT5uZ8qcmr6h3nz5jF9+nSampratUAMeAOTLn9mVvLPIYccYr3Z3Llzbc8997SamhrbbrvtrKam\nxvbcc0+bO3duqZPWp+w37YZSJ6HPGDlypC1atMjMzJqbm83MbNGiRTZy5MgSpqpvyeZruQDusW4e\nm70tpoSuii9eeOEFAJYvXw7AhAkTmDBhQofjW/mXrLkylclkGDt2bLt+Y8eOJZPJlChFrhx5UxsJ\n+UTU/abdkHf0da5UamtrWbx4cbt+ixcv9veou27xAOFcH+TvUXeF4EVMzvVB2RvRybcg+hsQXXd5\ngHCuj6qvr6e+vr5fPNDlisOLmJxzzqXyAOGccy6VBwjnnHOpPEA455xL5QHCOedcKg8QzjnnUnmA\ncM45l8oDhHPOuVQeIJxzzqXyAOGccy6VBwjn+ih/o5zbWt4Wk3N9kL9RbusU+tW25dr8v19BONcH\nNTY20tTURF1dHQMGDKCuro6mpiYaGxtLnbSy4O+GCTxAONcH+RvlXCF0GSAk7SOpWVJG0sOSvhb7\n7y7pVklPxO/dYn9J+rmkZZIelHRwsVfCOdeev1HOFUI+9yA2At80s3sl7QwskXQrMBlYaGbnSjoL\nOAuYBhwFjIifDwCXxG/n3DYTSXqtAAAVwElEQVQyffp0TjjhBCorK3n66afZb7/9WLt2LRdddFGp\nk+bKSJdXEGa22szujd3/BjLA3sCxwOw42mzgs7H7WOAKC+4AdpU0tOApd87lpdA3XF3/0a17EJJq\ngIOAO4EqM1sNIYgAe8XR9gZWJCZbGfs557aRxsZGpkyZQmVlJQCVlZVMmTLFb1K7bsm7mquknYDf\nA183s9c6OStJG7DFbXxJU4ApAFVVVbS0tOSblJIrp7SWG8/bwnjkkUd48cUXOfPMMxk+fDhPPfUU\n559/Ps8995zncQH1+bzMs4rW9sAtwDcS/R4DhsbuocBjsfsyoD5tvI4+hxxyiJWL/abdUOok9Fme\nt4UzcOBAu+CCC8zMrLm52czMLrjgAhs4cGAJU9W3lNv+CtxjeVbLzX66vIJQuFRoAjJmdmFi0PXA\nJODc+P3HRP8zJF1FuDn9qsWiKNe3vO8HC3j19TcLOs+as24syHwG77g9D3z/yILMqxy98cYbzJgx\ng4MOOoi2tjaam5uZMWMGb7zxRqmT5spIPkVMhwFfBB6SdH/s9x1CYLhGUgPwDHB8HHYTcDSwDFgH\nnFzQFLte49XX32T5uZ8q2PxaWloYN25cQeZVqEDTm3V18/mpp57iiCOO6NZ0VsYPdbnCy6cW02Iz\nk5m918xGx89NZvaimY03sxHx+6U4vpnZV8xsfzM70MzuKf5qONf/dFY0MHfuXIYPH86iRYvY91vX\nsWjRIoYPH87cuXP75BO/rji8LSbn+qBse0tTp07lmUcyTL25lsbGRm+HyXWLBwjn+qj6+nrq6+up\nOetGlhawKND1H94Wk3POuVT94gqi0LVtCnkDtL/XtnHO9V79IkAUsrZNIWvaQP+obeOcK09exOSc\ncy6VBwjnnHOp+kURkyuOnWvP4sDZZxV2prO7HiUfO9cCeM0d157fj+weDxCux/6dOdefpHZlxe9H\ndo8XMTnnnEvlAcI551wqDxDOOedSeYBwzjmXygOEc865VF6LybleyKtjut6gXwSIgtfXL1BdffD6\n+i6dV8csDj8WdE+/CBCFrK/vfzbnypcfC7rH70E455xL5QHCOedcKg8QzjnnUnV5D0LS5cCngefN\nbFTstztwNVADLAe+YGYvSxJwEXA0sA6YbGb3FifpzvVdfjPV9Qb53KSeBcwArkj0OwtYaGbnSjor\n/p4GHAWMiJ8PAJfEb9dHFfzG2p8LM7/BO25fkPmUit9Mdb1BlwHCzP4mqSan97HAuNg9G2ghBIhj\ngSvMzIA7JO0qaaiZrS5Ugl3vUciWXCEceAo9T+dyFTTAFeiEBnrnSU1Pq7lWZQ/6ZrZa0l6x/97A\nisR4K2O/LQKEpCnAFICqqipaWlp6mJT89NadonJ7ir7u5cTzYrNC5UVra2vB87Vct9OsT1YWbF6T\n/7y2oPOD3pevhX4OQin9LG1EM5sJzAQYM2aMFfISONfyAs7az3KL6M83FrQopKwVMC8KXcTk2ynq\nB/nQ0wDxXLboSNJQ4PnYfyWwT2K8amDV1iTQuf6qt1719saiEFccPQ0Q1wOTgHPj9x8T/c+QdBXh\n5vSrfv/Bue4r5FWqX/W6nsqnmus8wg3pIZJWAt8nBIZrJDUAzwDHx9FvIlRxXUao5npyEdLsnHNu\nG8inFlN9B4PGp4xrwFe2NlHOOedKz5+kds45l8oDhHPOuVQeIJxzzqXyAOGccy6VBwjnnHOp+sUb\n5ZxzrjtCw9R5jHdefvMLFTzLj19BOOdcDjPr8tPc3JzXeOUaHMADhHPOuQ54gHDOOZfKA4RzzrlU\nfpPauTKV741U6Ps3U11x+BWEc2Wqs5uic+fOZfjw4SxatIhbb72VRYsWMXz4cObOndsnb6a64vAA\n4Vwf1NjYSFNTE3V1dQwYMIC6ujqamppobGwsddJcGfEA4VwflMlkWLlyJaNGjWL8+PGMGjWKlStX\nkslkSp00V0b8HoRzfdCwYcOYNm0ac+bMoa2tjYqKCiZOnMiwYcNKnTRXRvwKwrk+Kveegt9jcN3l\nVxCu6Apd28YPdF1btWoVs2bNYurUqWQyGWprazn//POZPHlyqZPmyohfQbiiy7c5gnybLnBdq62t\npbq6mqVLl7Jw4UKWLl1KdXU1tbW1pU6aKyMeIJzrg6ZPn05DQwPNzc1s3LiR5uZmGhoamD59eqmT\n5spIUYqYJH0SuAioAH5tZucWYznOuXT19eFV8skipsbGxk39nctHwQOEpArgF8DHgZXA3ZKuN7NH\nCr2sQvMmfl1fUl9fT319PS0tLYwbN67UyXFlqBhFTIcCy8zsSTN7A7gKOLYIyyk4b+LXOec2K0aA\n2BtYkfi9MvZzzjlXRopxDyKtnGaL02lJU4ApAFVVVbS0tBQhKYXX2tpaNmktN563xeH5Whz9IV+L\nESBWAvskflcDq3JHMrOZwEyAMWPGWLmUkXp5bvF43haH52tx9Id8LUYR093ACEnDJe0AnAhcX4Tl\nOOecK6KCX0GY2UZJZwC3EKq5Xm5mDxd6Oc4554qrKM9BmNlNwE3FmLdzzrltw5+kds45l8oDhHPO\nuVTqDQ90SXoBeLrU6cjTEGBNqRPRR3neFofna3GUW77uZ2Z7dmeCXhEgyomke8xsTKnT0Rd53haH\n52tx9Id89SIm55xzqTxAOOecS+UBovtmljoBfZjnbXF4vhZHn89XvwfhnHMulV9BOOecS+UBwjnn\nXKpeHyAk7Sjpr/FNdUgaIekGSf+UtERSs6SPbOUyZkn6fA+nHS3p6K1cvkm6IPH7W5LO7mKaMySd\n3MPl9dk8VbBY0lGJfl+Q9OcezOtnyXxI5pukmrjdpiaGz5A0uYt5TpY0rJPh35D0qKSHJD0g6UJJ\n23c37Yn51UhauhXTf13S27Zi+rMlrZO0V6Jfa/xOzU9JO0j6m6RfeH62m/ZISf9QfPVlzLf7JX24\nm/N5u6Qb8xm31wcI4BTgD2bWJmkQcCMw08z2N7NDgKnAO3InklSUdqZSjAa2KkAAG4DPSRrSjWku\nB77aw+X12Ty1cFPtdOBCSYMkVQKNwFd6MLuLgW8nfm/Kt/j7eeBrsdXifE0GUg9okk4HjgQ+aGYH\nAu+Py9gxZdyKbixza3wd6HGAiNYA30zpn5qfsXshMCKPeU+mn+SnmS0gPFDcEHtNBe42s9u7OZ9n\ngZckfSCfkXv1B7gdqIndDcDsTsY9m1CzYAEwF6gB/g7cGz8fjuMJmAE8Qjg43gR8Pg5bDgyJ3WOA\nlth9aEzLffH73cAOwDPAC8D9wAlAJeHgfXcc99g81rGVcCBqjL+/BZwdu/cj/FkejN/7JqabDxzq\neZqa7vOB78fv7yb6TwLuivP+JeEkaQBwJfAQsBT4amL8+4E9U/KtJo57GXBq7DcDmBy7RwN3xO02\nH9gN+Hzc1o/F+e6Yk+YVwPAu9pP/Be4ExgLfi3myNG6jbKWTQ4AHgH8APwaWxv6TgRmJ+d0AjIvd\nlwD3AA8DP4j9vgq8EfOlOfY7Ms73XuB3wE5dbIez42c5sHt2PRL5+cOY/seA1dn8BN4Xp/H8bJ/m\nocA/gZHAskSeVgF/iMu8ixAUAY6Iab8/LqMy9v8P4Odd/o+6e3DZlh/CweLZxO8Lga91sTMuye4o\nhEg9KHaPAO6J3Z8DbiU0Rz4MeIWuD2a7AANi98eA33ewk/wf8J+xe1fg8exG6WJH3SUuezDtA8Sf\ngEmx+xTgusR004Fvep6mpruScOB4CBgY+40CrksscyYwAfgAcHNi2l0T3b8hvFM9N99qCAeS4cCj\ncb2TAeJB4KOx+3+Bn8XuFmBMSnp3Bl7uYp0M+ELi9+6J7iuBz6QsO98DWvZAUxHT+N6UbTcE+Bub\nDzLTgO91keazCfvz99h8oGyN+bkmbp9K4ABgPfCpmJ/bA697fqameyrwWjZvYr+r2RwUahJpvBn4\nQOzeCaiI3fsB93W1rN5exDSEcKBJJWm+pKWS/pDofb2ZvR67twd+JekhQnQ+IPb/CDDPzNrMbBWw\nKI+0DAZ+F8sff0qI4GmOBM6SdD9hxxgE7NvVzM3sNeAKtiw2+hDhzB3CTjs2Mex5Ori87kS/yFMz\nW0v401xpZhti748RihnuifP6KLA/4Uzs3ZIukvQJ4NXErLJ5nJpvZvYU4YxtQrafpMGEIPPX2Gs2\nIX86IxKv5pX0iVi+vDxRxtwG/D4xTZ2kO+O2OAIYmbLsK7tYbtYXJN1LuEIbyebtmvTB2P+2mH+T\nCAeafPwcmCRpl/h7SFyf+XFbrSMc9PYn5OeJcfggz88t/IJwoJ+V6Pcx4NI4n+uA3STtCNwG/Cze\nK9vF2hfndXns2FZlyj31OuFgkPUwiR3DzI6TNAb4SWKctYnu/wKeI1yubkc4Q9k0eQfL3MjmezPJ\nZf+QcFl4nKQawoEqjYD/MLPHOhjemZ8RLgN/08k4yXQPIuRRd/SnPH0rfpLzudzMvrvFAqT3AkcR\nAvR/EN+XzuY8zs23pP8DriWcDfaImb0maa2k4Wb2lJndAtwi6QbC2TbA+uwfPN47+iXh7HmFQqWG\nQeQcGHMkt0N23ZA0nHCW/34ze1nSLNLXVcCtZlbfg/V7RdJc4P/FXq8TTjbSZPOzAnizu8uKy+uz\n+Wlmb0nKTZMIxc1v5PQ/R9L1hCuzuyWNM7MnyPPY0auvIMzsZaAibjwIZ9KHSTomMVpnN3wGA6vN\n7C3gi4QdDsIf+cRYC2AoUJeYZjmhzBHCgSI5r3/F7smJ/v8mXM5m3QJMTdQ0OCh+7y1pYSdpxcxe\nAq5h800oCOW0J8buicDixLB3EYo58tbf8jTHXwhndkPi9HtI2lfSnoTy5t8R7lscnJjmXYTL9dx8\n28TMHiXce/l0/P0q8LKkw+MoXwSyZ6C565b0I+ASSbvG9ImOg1K2/xpJOxHK4zGzV4BXJWWvNCcm\nplkOjJa0naR9CPeAIBT1rY3TVRECZVYyvXcQ9pV3xvS9TdK7YvePJB3XQVqzLgROIxTxvUwojz8u\n1urZMabj7zE/lxFOYNs8P/PyFxIVMSSNjt/7m9mDZvYjwtXMu+MoeR07enWAiBYQi1ViMcengdMl\nPSnpH8D/AOd0MO0vCZe1dxAyJHsmPB94glD+eQmbdzaAHwAXSfo74RI063zgR5JuY/NBEaAZOCBe\nvp5AOCveHngwFp38MI43lHDG0ZULCJffWV8FTpb0IOGP8bXEsMMIO0Z39bc8Ja7rQzEtf4n5uYBw\nc28f4G/x8vxXwHcAJA0klOfeF2exKd9SNALVid+TgB/H5YwmlJsDzCIWBcQigKRLCNvzzjjdbXHZ\n9+WMlz1w/YqQ39cRbq5mnQz8Im7L5FnibcBTcZqfEK5WMbMH4jIeJlQGuC0xzUzgZknNZvYCIZDP\ni+m7A3hPHO9A4NkO8iab5jWE/WRg7HUj4YTnrrgOL5tZdl3/TvsSDs/Pzn2FEGwelPQI4UY/wLcU\niowfJBSRLoj96wj536le39RGPFv8hpl9sdRp2RoK7+l+xsyuL9D8epwvnqd5z/944AAz+0H83Sfy\nrRgk3WJmn+jmNB3mp8I9sG/3sKi27PUkP7sxbxEC8Kfi1VmHevs9CMzsPoUHtyoSN1jKjpnNKPAs\nhwBblKXnmRbP0/yIcPM8u7w+kW/F0JODWUf5qfBcyXX9NThAz/KzG/YCzu8qOEAZXEE455wrjXK4\nB+Gcc64EPEA455xL5QHCOedcKg8QrksKLVi+HquBZvu1xaqF2c9ZKdONU3gwqZBpGadE65WSTpd0\nUiGXEec7XdLDsdrg/eqiYTMlWq+VdHicNq3qZbv8THwKsg6KLaUWS856zpH0knrYaq/r/Xp9LSbX\na/zTzEYnfr+e83tbGUdoy+d2ADO7tNALkPQhwrMhB5vZBoUH67rTYutE4Cdm1tkT8bn5WXbMbKLC\nU8Kuj/IrCFdQkj6p0P7+YkIDftn+Z0v6VuL3UoXmNZB0UjxTf0DSlbHfZxTaxblP0l8kVcXxTwf+\nK551H56cr8J7JO6I85ovabfYv0XSeZLukvS4Nj+R25GhwJpsG05mtia2L4WkQxTeYbBE0i0KT40n\n1/9LwBeA70ma04P8a41pXRLX+9CY/icVn3ZXeAfCHyX9WdJjkr6fMh9J+nHM54cUHjhE0pWSjk2M\nN0fSMQpPwP9Y0t0x/05LzGeGpEcU3iGwV+6yXN/lAcL11I45RSQnKDRD8SvgM8DhwNu7momkkYRW\naY8ws/ex+UnxxYTWKQ8CrgLONLPlwKXAT81stJn9PWd2VwDTzOy9hKdbkwfOAWZ2KKE9/i0OqDkW\nAPvEYPJLSR+Nad2e8I6Iz1t4b8blhCeoNzGzXwPXA/9tZhPp2P45+ZcNWpWE1m4PITTLcA7wceA4\nNj89DKFZh4mEp4qPV2g/K+lzcdj7CA25/TgGs18TngzONir4YULT7A3Aq2b2fkKDhqcqtCl0HKF5\nhgMJT+d26+U0rrx5EZPrqS2KmBTaf3kqNgaGpN+yudG7jhwBXBubYci2RwWh2Yqr40FtB0KTBh1S\neoufv0uMkm2ddgmh+YwOmVmrpEMIQa4upuMsQlv7o4BbFZqFqiC8w6AnOipiegPIvv3uIWCDmb2p\n0MJoMt23mtmLsOmp47ExfVljia3rAs9J+iuh8bjrFd7UthchiPzezDZKOhJ4b+J+wmBCc+4fScxn\nlaR8Wul1fYQHCFdo3Wr5ko5by7wYuDAe0MYR3iuwNbJNfreRx34fD4gtQEs8OE8iBJeHzexDW5mW\nzrxpm59efYuY7tiCZzLduXmW1rpnR64kXH2cSHjHSHb8qbHV080zCa9+9adp+ykvYnKF9CgwXNL+\n8XeyGePlxFZSJR1MeNEOhLfkfUHSHnHY7rF/sqXXSYn5pLbe2UWLn6nUQWuwkt4tKfm6y9GEVz0+\nBuwZb2IjaftYRFYKH5e0u0Itqc/SvkE4CK3rnhDvLexJuBK4Kw6bRShqw8wejv1uAb4ci9GQ9C6F\n17V21kqv6+P8CsL11I5KVHsF/mxmZ0maAtwoaQ3hPsKoOPz3wElxmrsJb4XDzB6W1Aj8VVIboRXM\nyYQrht9J+hehlctsQPkTcG280To1J02TCC17vg14kljW3omOWoPdCbhYoZnojYSmp6eY2RuxCObn\nsUhrAOEdHg+nzKMr++fk3+Vm9vNuTL+YcCXwTmCumd2TM3w+4WVTDxCuAM608C5izOw5SRlCq6VZ\nvyYUYd2rUH72AiHwzCcUAz5E2GadBl3Xt3hbTK5LCrWHbjCzUV2MWlZU5NZgi0XSZMKLbc7o4fRv\nIxzwD86nwbYu5jWLsG9cuzXzcb2TFzG5fLQBg3POeMuemc0ot+CwtSR9jFAUeHEBgsMcwmtb13c1\nritPfgXhXJFIOpAt32G8wcw6fSrbud7CA4RzzrlUXsTknHMulQcI55xzqTxAOOecS+UBwjnnXCoP\nEM4551L9f8rMNlYHusL/AAAAAElFTkSuQmCC\n",
      "text/plain": [
<<<<<<< HEAD
       "<matplotlib.figure.Figure at 0x205e9068208>"
=======
       "<matplotlib.figure.Figure at 0x29857004470>"
>>>>>>> 0cfc41ccb2ba7cad31e5c8173b425537a33b9ff6
      ]
     },
     "metadata": {},
     "output_type": "display_data"
    }
   ],
   "source": [
    "df.boxplot(column='LoanAmount', by=['Education','Self_Employed']) # boxplot of loan amount by education and self-employed"
   ]
  },
  {
   "cell_type": "code",
<<<<<<< HEAD
   "execution_count": 413,
=======
   "execution_count": 396,
>>>>>>> 0cfc41ccb2ba7cad31e5c8173b425537a33b9ff6
   "metadata": {},
   "outputs": [
    {
     "data": {
      "text/plain": [
       "No     500\n",
       "Yes     82\n",
       "Name: Self_Employed, dtype: int64"
      ]
     },
<<<<<<< HEAD
     "execution_count": 413,
=======
     "execution_count": 396,
>>>>>>> 0cfc41ccb2ba7cad31e5c8173b425537a33b9ff6
     "metadata": {},
     "output_type": "execute_result"
    }
   ],
   "source": [
    "df['Self_Employed'].value_counts() # imputing missing values for self-employment"
   ]
  },
  {
   "cell_type": "markdown",
   "metadata": {
    "collapsed": true
   },
   "source": [
    "Since ~86% of the values are \"No\", we can impute the 32 missing values as \"No\" as there is a high probability  of success."
   ]
  },
  {
   "cell_type": "code",
<<<<<<< HEAD
   "execution_count": 414,
=======
   "execution_count": 397,
>>>>>>> 0cfc41ccb2ba7cad31e5c8173b425537a33b9ff6
   "metadata": {
    "collapsed": true
   },
   "outputs": [],
   "source": [
    "df['Self_Employed'].fillna('No', inplace=True) # imputing self_employed missing values as \"No\""
   ]
  },
  {
   "cell_type": "code",
<<<<<<< HEAD
   "execution_count": 415,
=======
   "execution_count": 398,
>>>>>>> 0cfc41ccb2ba7cad31e5c8173b425537a33b9ff6
   "metadata": {},
   "outputs": [
    {
     "name": "stdout",
     "output_type": "stream",
     "text": [
      "Education      Graduate  Not Graduate\n",
      "Self_Employed                        \n",
      "No                130.0         113.0\n",
      "Yes               157.5         130.0\n"
     ]
    }
   ],
   "source": [
    "# creating a pivot table to provide us the median values for all groups of Education and Self_Employed\n",
    "table = df.pivot_table(values='LoanAmount', index='Self_Employed', columns='Education', aggfunc=np.median)\n",
    "\n",
    "# define a function to return the value of the pivot table\n",
    "def fage(x):\n",
    "    return table.loc[x['Self_Employed'], x['Education']]\n",
    "\n",
    "# replacing missing values of Loan Amount with the median value of each groups (as per the frequency table below)\n",
    "df['LoanAmount'].fillna(df[df['LoanAmount'].isnull()].apply(fage, axis=1), inplace=True)\n",
    "print(table)\n"
   ]
  },
  {
   "cell_type": "markdown",
   "metadata": {
    "collapsed": true
   },
   "source": [
    "For extreme values in loan amount, we can't just eliminate them since some of might be justified. So, instead of treating them as an outlier, we will perform a log transformation."
   ]
  },
  {
   "cell_type": "code",
<<<<<<< HEAD
   "execution_count": 416,
=======
   "execution_count": 399,
>>>>>>> 0cfc41ccb2ba7cad31e5c8173b425537a33b9ff6
   "metadata": {},
   "outputs": [
    {
     "data": {
      "text/plain": [
<<<<<<< HEAD
       "<matplotlib.axes._subplots.AxesSubplot at 0x205e92c7160>"
      ]
     },
     "execution_count": 416,
=======
       "<matplotlib.axes._subplots.AxesSubplot at 0x298571ff550>"
      ]
     },
     "execution_count": 399,
>>>>>>> 0cfc41ccb2ba7cad31e5c8173b425537a33b9ff6
     "metadata": {},
     "output_type": "execute_result"
    },
    {
     "data": {
      "image/png": "iVBORw0KGgoAAAANSUhEUgAAAXoAAAD8CAYAAAB5Pm/hAAAABHNCSVQICAgIfAhkiAAAAAlwSFlz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\nPgAAAABJRU5ErkJggg==\n",
      "text/plain": [
<<<<<<< HEAD
       "<matplotlib.figure.Figure at 0x205e91c57f0>"
=======
       "<matplotlib.figure.Figure at 0x298572755f8>"
>>>>>>> 0cfc41ccb2ba7cad31e5c8173b425537a33b9ff6
      ]
     },
     "metadata": {},
     "output_type": "display_data"
    }
   ],
   "source": [
    "df['LoanAmount'].hist(bins=20) # histogram of loan amount before transformation"
   ]
  },
  {
   "cell_type": "code",
<<<<<<< HEAD
   "execution_count": 417,
=======
   "execution_count": 400,
>>>>>>> 0cfc41ccb2ba7cad31e5c8173b425537a33b9ff6
   "metadata": {},
   "outputs": [
    {
     "data": {
      "text/plain": [
<<<<<<< HEAD
       "<matplotlib.axes._subplots.AxesSubplot at 0x205e92cdef0>"
      ]
     },
     "execution_count": 417,
=======
       "<matplotlib.axes._subplots.AxesSubplot at 0x298572947f0>"
      ]
     },
     "execution_count": 400,
>>>>>>> 0cfc41ccb2ba7cad31e5c8173b425537a33b9ff6
     "metadata": {},
     "output_type": "execute_result"
    },
    {
     "data": {
      "image/png": "iVBORw0KGgoAAAANSUhEUgAAAXoAAAD8CAYAAAB5Pm/hAAAABHNCSVQICAgIfAhkiAAAAAlwSFlz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\nM+glqXH/CN2cHVErbotvAAAAAElFTkSuQmCC\n",
      "text/plain": [
<<<<<<< HEAD
       "<matplotlib.figure.Figure at 0x205e8f28908>"
=======
       "<matplotlib.figure.Figure at 0x29856fdfd30>"
>>>>>>> 0cfc41ccb2ba7cad31e5c8173b425537a33b9ff6
      ]
     },
     "metadata": {},
     "output_type": "display_data"
    }
   ],
   "source": [
    "df['LoanAmount_log'] = np.log(df['LoanAmount'])\n",
    "df['LoanAmount_log'].hist(bins=20) # histogram of loan amount after log transformation"
   ]
  },
  {
   "cell_type": "markdown",
   "metadata": {},
   "source": [
    "For applicant incomes, it might be better to include the co-applicant's income as well and take the log transformation of that value."
   ]
  },
  {
   "cell_type": "code",
<<<<<<< HEAD
   "execution_count": 418,
=======
   "execution_count": 401,
>>>>>>> 0cfc41ccb2ba7cad31e5c8173b425537a33b9ff6
   "metadata": {},
   "outputs": [
    {
     "data": {
      "text/plain": [
<<<<<<< HEAD
       "<matplotlib.axes._subplots.AxesSubplot at 0x205e93a4550>"
      ]
     },
     "execution_count": 418,
=======
       "<matplotlib.axes._subplots.AxesSubplot at 0x298573661d0>"
      ]
     },
     "execution_count": 401,
>>>>>>> 0cfc41ccb2ba7cad31e5c8173b425537a33b9ff6
     "metadata": {},
     "output_type": "execute_result"
    },
    {
     "data": {
      "image/png": "iVBORw0KGgoAAAANSUhEUgAAAXoAAAD8CAYAAAB5Pm/hAAAABHNCSVQICAgIfAhkiAAAAAlwSFlz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\nVe7/AwbH45Oos5XSAAAAAElFTkSuQmCC\n",
      "text/plain": [
<<<<<<< HEAD
       "<matplotlib.figure.Figure at 0x205e934be80>"
=======
       "<matplotlib.figure.Figure at 0x29857312780>"
>>>>>>> 0cfc41ccb2ba7cad31e5c8173b425537a33b9ff6
      ]
     },
     "metadata": {},
     "output_type": "display_data"
    }
   ],
   "source": [
    "df['TotalIncome'] = df['ApplicantIncome'] + df['CoapplicantIncome']\n",
    "df['TotalIncome_log'] = np.log(df['TotalIncome'])\n",
    "df['TotalIncome'].hist(bins=20)"
   ]
  },
  {
   "cell_type": "code",
<<<<<<< HEAD
   "execution_count": 419,
=======
   "execution_count": 402,
>>>>>>> 0cfc41ccb2ba7cad31e5c8173b425537a33b9ff6
   "metadata": {},
   "outputs": [
    {
     "data": {
      "text/plain": [
<<<<<<< HEAD
       "<matplotlib.axes._subplots.AxesSubplot at 0x205e93ef9e8>"
      ]
     },
     "execution_count": 419,
=======
       "<matplotlib.axes._subplots.AxesSubplot at 0x29857418358>"
      ]
     },
     "execution_count": 402,
>>>>>>> 0cfc41ccb2ba7cad31e5c8173b425537a33b9ff6
     "metadata": {},
     "output_type": "execute_result"
    },
    {
     "data": {
      "image/png": "iVBORw0KGgoAAAANSUhEUgAAAYEAAAD8CAYAAACRkhiPAAAABHNCSVQICAgIfAhkiAAAAAlwSFlz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\nBCSpYJaAJBXs/wHh2iMKTC/DEQAAAABJRU5ErkJggg==\n",
      "text/plain": [
<<<<<<< HEAD
       "<matplotlib.figure.Figure at 0x205e9469c88>"
=======
       "<matplotlib.figure.Figure at 0x298573304a8>"
>>>>>>> 0cfc41ccb2ba7cad31e5c8173b425537a33b9ff6
      ]
     },
     "metadata": {},
     "output_type": "display_data"
    }
   ],
   "source": [
    "df['TotalIncome_log'].hist(bins=20) # comparing before and after log transformation for total income"
   ]
  },
  {
   "cell_type": "code",
<<<<<<< HEAD
   "execution_count": 420,
=======
   "execution_count": 403,
>>>>>>> 0cfc41ccb2ba7cad31e5c8173b425537a33b9ff6
   "metadata": {},
   "outputs": [
    {
     "data": {
      "text/plain": [
       "Loan_ID               0\n",
       "Gender               13\n",
       "Married               3\n",
       "Dependents           15\n",
       "Education             0\n",
       "Self_Employed         0\n",
       "ApplicantIncome       0\n",
       "CoapplicantIncome     0\n",
       "LoanAmount            0\n",
       "Loan_Amount_Term     14\n",
       "Credit_History       50\n",
       "Property_Area         0\n",
       "Loan_Status           0\n",
       "LoanAmount_log        0\n",
       "TotalIncome           0\n",
       "TotalIncome_log       0\n",
       "dtype: int64"
      ]
     },
<<<<<<< HEAD
     "execution_count": 420,
=======
     "execution_count": 403,
>>>>>>> 0cfc41ccb2ba7cad31e5c8173b425537a33b9ff6
     "metadata": {},
     "output_type": "execute_result"
    }
   ],
   "source": [
    "df.apply(lambda x: sum(x.isnull()), axis=0) # check again which variables are still missing values"
   ]
  },
  {
   "cell_type": "markdown",
   "metadata": {},
   "source": [
    "We still have Gender, Married, Dependents, Loan_Amount_Term and Credit_History to munge."
   ]
  },
  {
   "cell_type": "code",
<<<<<<< HEAD
   "execution_count": 421,
=======
   "execution_count": 404,
>>>>>>> 0cfc41ccb2ba7cad31e5c8173b425537a33b9ff6
   "metadata": {},
   "outputs": [
    {
     "data": {
      "text/plain": [
       "Male      0.813644\n",
       "Female    0.186356\n",
       "Name: Gender, dtype: float64"
      ]
     },
<<<<<<< HEAD
     "execution_count": 421,
=======
     "execution_count": 404,
>>>>>>> 0cfc41ccb2ba7cad31e5c8173b425537a33b9ff6
     "metadata": {},
     "output_type": "execute_result"
    }
   ],
   "source": [
    "df['Gender'].value_counts(normalize=True) # counting the percentages of male and female applicants"
   ]
  },
  {
   "cell_type": "markdown",
   "metadata": {},
   "source": [
    "81.36% of the applicants are male. Even if we replace the 13 missing genders with male, the percentage will not change drastically. Hence, we will replace the NaNs with Male. Note that the percentage of males increased by 0.4%."
   ]
  },
  {
   "cell_type": "code",
<<<<<<< HEAD
   "execution_count": 422,
=======
   "execution_count": 405,
>>>>>>> 0cfc41ccb2ba7cad31e5c8173b425537a33b9ff6
   "metadata": {},
   "outputs": [
    {
     "data": {
      "text/plain": [
       "Male      0.81759\n",
       "Female    0.18241\n",
       "Name: Gender, dtype: float64"
      ]
     },
<<<<<<< HEAD
     "execution_count": 422,
=======
     "execution_count": 405,
>>>>>>> 0cfc41ccb2ba7cad31e5c8173b425537a33b9ff6
     "metadata": {},
     "output_type": "execute_result"
    }
   ],
   "source": [
    "df['Gender'].fillna('Male', inplace=True) # replacing the 13 missing values with Male\n",
    "df['Gender'].value_counts(normalize=True)"
   ]
  },
  {
   "cell_type": "markdown",
   "metadata": {},
   "source": [
    "Married (3 missing values) and Dependents (15 missing values) are probably related to Gender and Education. We will plot a pivot table to find the expected values of Married and Dependent based on their Gender and Education."
   ]
  },
  {
   "cell_type": "code",
<<<<<<< HEAD
   "execution_count": 423,
=======
   "execution_count": 406,
>>>>>>> 0cfc41ccb2ba7cad31e5c8173b425537a33b9ff6
   "metadata": {},
   "outputs": [
    {
     "name": "stdout",
     "output_type": "stream",
     "text": [
      "         Married\n",
      "Gender          \n",
      "Female  0.279279\n",
      "Male    0.734000\n"
     ]
    }
   ],
   "source": [
    "table2 = df.pivot_table(values='Married', index='Gender', aggfunc=lambda x: x.map({'Yes':1, 'No':0}).mean())\n",
    "print(table2)"
   ]
  },
  {
   "cell_type": "markdown",
   "metadata": {},
   "source": [
    "From the table above, we can see that there is a higher chance that the applicant's married if they are a male. Hence, if they are male, we will put them as married and otherwise if they are female."
   ]
  },
  {
   "cell_type": "code",
<<<<<<< HEAD
   "execution_count": 424,
=======
   "execution_count": 407,
>>>>>>> 0cfc41ccb2ba7cad31e5c8173b425537a33b9ff6
   "metadata": {},
   "outputs": [
    {
     "data": {
      "text/html": [
       "<div>\n",
       "<style>\n",
       "    .dataframe thead tr:only-child th {\n",
       "        text-align: right;\n",
       "    }\n",
       "\n",
       "    .dataframe thead th {\n",
       "        text-align: left;\n",
       "    }\n",
       "\n",
       "    .dataframe tbody tr th {\n",
       "        vertical-align: top;\n",
       "    }\n",
       "</style>\n",
       "<table border=\"1\" class=\"dataframe\">\n",
       "  <thead>\n",
       "    <tr style=\"text-align: right;\">\n",
       "      <th></th>\n",
       "      <th>Loan_ID</th>\n",
       "      <th>Gender</th>\n",
       "      <th>Married</th>\n",
       "      <th>Dependents</th>\n",
       "      <th>Education</th>\n",
       "      <th>Self_Employed</th>\n",
       "      <th>ApplicantIncome</th>\n",
       "      <th>CoapplicantIncome</th>\n",
       "      <th>LoanAmount</th>\n",
       "      <th>Loan_Amount_Term</th>\n",
       "      <th>Credit_History</th>\n",
       "      <th>Property_Area</th>\n",
       "      <th>Loan_Status</th>\n",
       "      <th>LoanAmount_log</th>\n",
       "      <th>TotalIncome</th>\n",
       "      <th>TotalIncome_log</th>\n",
       "    </tr>\n",
       "  </thead>\n",
       "  <tbody>\n",
       "    <tr>\n",
       "      <th>104</th>\n",
       "      <td>LP001357</td>\n",
       "      <td>Male</td>\n",
       "      <td>NaN</td>\n",
       "      <td>NaN</td>\n",
       "      <td>Graduate</td>\n",
       "      <td>No</td>\n",
       "      <td>3816</td>\n",
       "      <td>754.0</td>\n",
       "      <td>160.0</td>\n",
       "      <td>360.0</td>\n",
       "      <td>1.0</td>\n",
       "      <td>Urban</td>\n",
       "      <td>Y</td>\n",
       "      <td>5.075174</td>\n",
       "      <td>4570.0</td>\n",
       "      <td>8.427268</td>\n",
       "    </tr>\n",
       "    <tr>\n",
       "      <th>228</th>\n",
       "      <td>LP001760</td>\n",
       "      <td>Male</td>\n",
       "      <td>NaN</td>\n",
       "      <td>NaN</td>\n",
       "      <td>Graduate</td>\n",
       "      <td>No</td>\n",
       "      <td>4758</td>\n",
       "      <td>0.0</td>\n",
       "      <td>158.0</td>\n",
       "      <td>480.0</td>\n",
       "      <td>1.0</td>\n",
       "      <td>Semiurban</td>\n",
       "      <td>Y</td>\n",
       "      <td>5.062595</td>\n",
       "      <td>4758.0</td>\n",
       "      <td>8.467583</td>\n",
       "    </tr>\n",
       "    <tr>\n",
       "      <th>435</th>\n",
       "      <td>LP002393</td>\n",
       "      <td>Female</td>\n",
       "      <td>NaN</td>\n",
       "      <td>NaN</td>\n",
       "      <td>Graduate</td>\n",
       "      <td>No</td>\n",
       "      <td>10047</td>\n",
       "      <td>0.0</td>\n",
       "      <td>130.0</td>\n",
       "      <td>240.0</td>\n",
       "      <td>1.0</td>\n",
       "      <td>Semiurban</td>\n",
       "      <td>Y</td>\n",
       "      <td>4.867534</td>\n",
       "      <td>10047.0</td>\n",
       "      <td>9.215029</td>\n",
       "    </tr>\n",
       "  </tbody>\n",
       "</table>\n",
       "</div>"
      ],
      "text/plain": [
       "      Loan_ID  Gender Married Dependents Education Self_Employed  \\\n",
       "104  LP001357    Male     NaN        NaN  Graduate            No   \n",
       "228  LP001760    Male     NaN        NaN  Graduate            No   \n",
       "435  LP002393  Female     NaN        NaN  Graduate            No   \n",
       "\n",
       "     ApplicantIncome  CoapplicantIncome  LoanAmount  Loan_Amount_Term  \\\n",
       "104             3816              754.0       160.0             360.0   \n",
       "228             4758                0.0       158.0             480.0   \n",
       "435            10047                0.0       130.0             240.0   \n",
       "\n",
       "     Credit_History Property_Area Loan_Status  LoanAmount_log  TotalIncome  \\\n",
       "104             1.0         Urban           Y        5.075174       4570.0   \n",
       "228             1.0     Semiurban           Y        5.062595       4758.0   \n",
       "435             1.0     Semiurban           Y        4.867534      10047.0   \n",
       "\n",
       "     TotalIncome_log  \n",
       "104         8.427268  \n",
       "228         8.467583  \n",
       "435         9.215029  "
      ]
     },
<<<<<<< HEAD
     "execution_count": 424,
=======
     "execution_count": 407,
>>>>>>> 0cfc41ccb2ba7cad31e5c8173b425537a33b9ff6
     "metadata": {},
     "output_type": "execute_result"
    }
   ],
   "source": [
    "df[pd.isnull(df['Married'])] # checking whether our code is replacing the NaN values correctly"
   ]
  },
  {
   "cell_type": "code",
<<<<<<< HEAD
   "execution_count": 425,
=======
   "execution_count": 408,
>>>>>>> 0cfc41ccb2ba7cad31e5c8173b425537a33b9ff6
   "metadata": {
    "collapsed": true
   },
   "outputs": [],
   "source": [
    "# function to fill Married missing values with Yes if male and No if female\n",
    "def fage2(x):\n",
    "    if x['Gender'] == 'Male':\n",
    "        return 'Yes'\n",
    "    else:\n",
    "        return 'No'\n",
    "\n",
    "df['Married'].fillna(df[df['Married'].isnull()].apply(fage2,axis=1), inplace=True)"
   ]
  },
  {
   "cell_type": "code",
<<<<<<< HEAD
   "execution_count": 426,
=======
   "execution_count": 409,
>>>>>>> 0cfc41ccb2ba7cad31e5c8173b425537a33b9ff6
   "metadata": {},
   "outputs": [
    {
     "data": {
      "text/html": [
       "<div>\n",
       "<style>\n",
       "    .dataframe thead tr:only-child th {\n",
       "        text-align: right;\n",
       "    }\n",
       "\n",
       "    .dataframe thead th {\n",
       "        text-align: left;\n",
       "    }\n",
       "\n",
       "    .dataframe tbody tr th {\n",
       "        vertical-align: top;\n",
       "    }\n",
       "</style>\n",
       "<table border=\"1\" class=\"dataframe\">\n",
       "  <thead>\n",
       "    <tr style=\"text-align: right;\">\n",
       "      <th></th>\n",
       "      <th>Loan_ID</th>\n",
       "      <th>Gender</th>\n",
       "      <th>Married</th>\n",
       "      <th>Dependents</th>\n",
       "      <th>Education</th>\n",
       "      <th>Self_Employed</th>\n",
       "      <th>ApplicantIncome</th>\n",
       "      <th>CoapplicantIncome</th>\n",
       "      <th>LoanAmount</th>\n",
       "      <th>Loan_Amount_Term</th>\n",
       "      <th>Credit_History</th>\n",
       "      <th>Property_Area</th>\n",
       "      <th>Loan_Status</th>\n",
       "      <th>LoanAmount_log</th>\n",
       "      <th>TotalIncome</th>\n",
       "      <th>TotalIncome_log</th>\n",
       "    </tr>\n",
       "  </thead>\n",
       "  <tbody>\n",
       "    <tr>\n",
       "      <th>104</th>\n",
       "      <td>LP001357</td>\n",
       "      <td>Male</td>\n",
       "      <td>Yes</td>\n",
       "      <td>NaN</td>\n",
       "      <td>Graduate</td>\n",
       "      <td>No</td>\n",
       "      <td>3816</td>\n",
       "      <td>754.0</td>\n",
       "      <td>160.0</td>\n",
       "      <td>360.0</td>\n",
       "      <td>1.0</td>\n",
       "      <td>Urban</td>\n",
       "      <td>Y</td>\n",
       "      <td>5.075174</td>\n",
       "      <td>4570.0</td>\n",
       "      <td>8.427268</td>\n",
       "    </tr>\n",
       "    <tr>\n",
       "      <th>228</th>\n",
       "      <td>LP001760</td>\n",
       "      <td>Male</td>\n",
       "      <td>Yes</td>\n",
       "      <td>NaN</td>\n",
       "      <td>Graduate</td>\n",
       "      <td>No</td>\n",
       "      <td>4758</td>\n",
       "      <td>0.0</td>\n",
       "      <td>158.0</td>\n",
       "      <td>480.0</td>\n",
       "      <td>1.0</td>\n",
       "      <td>Semiurban</td>\n",
       "      <td>Y</td>\n",
       "      <td>5.062595</td>\n",
       "      <td>4758.0</td>\n",
       "      <td>8.467583</td>\n",
       "    </tr>\n",
       "    <tr>\n",
       "      <th>435</th>\n",
       "      <td>LP002393</td>\n",
       "      <td>Female</td>\n",
       "      <td>No</td>\n",
       "      <td>NaN</td>\n",
       "      <td>Graduate</td>\n",
       "      <td>No</td>\n",
       "      <td>10047</td>\n",
       "      <td>0.0</td>\n",
       "      <td>130.0</td>\n",
       "      <td>240.0</td>\n",
       "      <td>1.0</td>\n",
       "      <td>Semiurban</td>\n",
       "      <td>Y</td>\n",
       "      <td>4.867534</td>\n",
       "      <td>10047.0</td>\n",
       "      <td>9.215029</td>\n",
       "    </tr>\n",
       "  </tbody>\n",
       "</table>\n",
       "</div>"
      ],
      "text/plain": [
       "      Loan_ID  Gender Married Dependents Education Self_Employed  \\\n",
       "104  LP001357    Male     Yes        NaN  Graduate            No   \n",
       "228  LP001760    Male     Yes        NaN  Graduate            No   \n",
       "435  LP002393  Female      No        NaN  Graduate            No   \n",
       "\n",
       "     ApplicantIncome  CoapplicantIncome  LoanAmount  Loan_Amount_Term  \\\n",
       "104             3816              754.0       160.0             360.0   \n",
       "228             4758                0.0       158.0             480.0   \n",
       "435            10047                0.0       130.0             240.0   \n",
       "\n",
       "     Credit_History Property_Area Loan_Status  LoanAmount_log  TotalIncome  \\\n",
       "104             1.0         Urban           Y        5.075174       4570.0   \n",
       "228             1.0     Semiurban           Y        5.062595       4758.0   \n",
       "435             1.0     Semiurban           Y        4.867534      10047.0   \n",
       "\n",
       "     TotalIncome_log  \n",
       "104         8.427268  \n",
       "228         8.467583  \n",
       "435         9.215029  "
      ]
     },
<<<<<<< HEAD
     "execution_count": 426,
=======
     "execution_count": 409,
>>>>>>> 0cfc41ccb2ba7cad31e5c8173b425537a33b9ff6
     "metadata": {},
     "output_type": "execute_result"
    }
   ],
   "source": [
    "df.iloc[[104, 228, 435],:] # seems about right for the three missing values"
   ]
  },
  {
   "cell_type": "markdown",
   "metadata": {},
   "source": [
    "Next, we look at the Dependents. There should be a relationship between Gender, Married and Dependents."
   ]
  },
  {
   "cell_type": "code",
<<<<<<< HEAD
   "execution_count": 427,
=======
   "execution_count": 410,
>>>>>>> 0cfc41ccb2ba7cad31e5c8173b425537a33b9ff6
   "metadata": {},
   "outputs": [
    {
     "data": {
      "text/plain": [
       "0     0.575960\n",
       "1     0.170284\n",
       "2     0.168614\n",
       "3+    0.085142\n",
       "Name: Dependents, dtype: float64"
      ]
     },
<<<<<<< HEAD
     "execution_count": 427,
=======
     "execution_count": 410,
>>>>>>> 0cfc41ccb2ba7cad31e5c8173b425537a33b9ff6
     "metadata": {},
     "output_type": "execute_result"
    }
   ],
   "source": [
    "df['Dependents'].value_counts(normalize=True) # more than half of applicants do not have dependent"
   ]
  },
  {
   "cell_type": "code",
<<<<<<< HEAD
   "execution_count": 428,
=======
   "execution_count": 411,
>>>>>>> 0cfc41ccb2ba7cad31e5c8173b425537a33b9ff6
   "metadata": {},
   "outputs": [
    {
     "name": "stdout",
     "output_type": "stream",
     "text": [
      "Married      No  Yes\n",
      "Dependents          \n",
      "0           171  174\n",
      "1            23   79\n",
      "2             8   93\n",
      "3+            7   44\n"
     ]
    }
   ],
   "source": [
    "table3 = df.pivot_table(values='Loan_ID',index='Dependents', columns='Married', aggfunc=len)\n",
    "print(table3)"
   ]
  },
  {
   "cell_type": "markdown",
   "metadata": {},
   "source": [
    "Out of the 42% applicants that have dependents, 85% are married. We can then assume that applicants who are not married will have zero dependents (in the case of missing values). If they are married, then we assign a random number of dependents between 1, 2, or 3+."
   ]
  },
  {
   "cell_type": "code",
<<<<<<< HEAD
   "execution_count": 429,
   "metadata": {
    "collapsed": true
   },
=======
   "execution_count": 412,
   "metadata": {},
>>>>>>> 0cfc41ccb2ba7cad31e5c8173b425537a33b9ff6
   "outputs": [],
   "source": [
    "# function to fill Dependents missing values with 0 if not married and 1, 2, or 3+ if married\n",
    "def fage3(x):\n",
    "    if x['Married'] == 'No':\n",
    "        return 0\n",
    "    else:\n",
    "        return random.choice(['1', '2', '3+'])\n",
    "\n",
    "df['Dependents'].fillna(df[df['Dependents'].isnull()].apply(fage3,axis=1), inplace=True)"
   ]
  },
  {
   "cell_type": "markdown",
   "metadata": {},
   "source": [
    "As for Loan_Amount_Term's missing values, most of the tenure is 30 years i.e. 360 months."
   ]
  },
  {
   "cell_type": "code",
<<<<<<< HEAD
   "execution_count": 430,
=======
   "execution_count": 413,
>>>>>>> 0cfc41ccb2ba7cad31e5c8173b425537a33b9ff6
   "metadata": {},
   "outputs": [
    {
     "data": {
      "text/plain": [
       "360.0    512\n",
       "180.0     44\n",
       "480.0     15\n",
       "300.0     13\n",
       "84.0       4\n",
       "240.0      4\n",
       "120.0      3\n",
       "36.0       2\n",
       "60.0       2\n",
       "12.0       1\n",
       "Name: Loan_Amount_Term, dtype: int64"
      ]
     },
<<<<<<< HEAD
     "execution_count": 430,
=======
     "execution_count": 413,
>>>>>>> 0cfc41ccb2ba7cad31e5c8173b425537a33b9ff6
     "metadata": {},
     "output_type": "execute_result"
    }
   ],
   "source": [
    "df['Loan_Amount_Term'].value_counts()"
   ]
  },
  {
   "cell_type": "code",
<<<<<<< HEAD
   "execution_count": 431,
=======
   "execution_count": 414,
>>>>>>> 0cfc41ccb2ba7cad31e5c8173b425537a33b9ff6
   "metadata": {},
   "outputs": [
    {
     "data": {
      "text/html": [
       "<div>\n",
       "<style>\n",
       "    .dataframe thead tr:only-child th {\n",
       "        text-align: right;\n",
       "    }\n",
       "\n",
       "    .dataframe thead th {\n",
       "        text-align: left;\n",
       "    }\n",
       "\n",
       "    .dataframe tbody tr th {\n",
       "        vertical-align: top;\n",
       "    }\n",
       "</style>\n",
       "<table border=\"1\" class=\"dataframe\">\n",
       "  <thead>\n",
       "    <tr style=\"text-align: right;\">\n",
       "      <th></th>\n",
       "      <th>Loan_ID</th>\n",
       "      <th>Gender</th>\n",
       "      <th>Married</th>\n",
       "      <th>Dependents</th>\n",
       "      <th>Education</th>\n",
       "      <th>Self_Employed</th>\n",
       "      <th>ApplicantIncome</th>\n",
       "      <th>CoapplicantIncome</th>\n",
       "      <th>LoanAmount</th>\n",
       "      <th>Loan_Amount_Term</th>\n",
       "      <th>Credit_History</th>\n",
       "      <th>Property_Area</th>\n",
       "      <th>Loan_Status</th>\n",
       "      <th>LoanAmount_log</th>\n",
       "      <th>TotalIncome</th>\n",
       "      <th>TotalIncome_log</th>\n",
       "    </tr>\n",
       "  </thead>\n",
       "  <tbody>\n",
       "    <tr>\n",
       "      <th>19</th>\n",
       "      <td>LP001041</td>\n",
       "      <td>Male</td>\n",
       "      <td>Yes</td>\n",
       "      <td>0</td>\n",
       "      <td>Graduate</td>\n",
       "      <td>No</td>\n",
       "      <td>2600</td>\n",
       "      <td>3500.0</td>\n",
       "      <td>115.0</td>\n",
       "      <td>NaN</td>\n",
       "      <td>1.0</td>\n",
       "      <td>Urban</td>\n",
       "      <td>Y</td>\n",
       "      <td>4.744932</td>\n",
       "      <td>6100.0</td>\n",
       "      <td>8.716044</td>\n",
       "    </tr>\n",
       "    <tr>\n",
       "      <th>36</th>\n",
       "      <td>LP001109</td>\n",
       "      <td>Male</td>\n",
       "      <td>Yes</td>\n",
       "      <td>0</td>\n",
       "      <td>Graduate</td>\n",
       "      <td>No</td>\n",
       "      <td>1828</td>\n",
       "      <td>1330.0</td>\n",
       "      <td>100.0</td>\n",
       "      <td>NaN</td>\n",
       "      <td>0.0</td>\n",
       "      <td>Urban</td>\n",
       "      <td>N</td>\n",
       "      <td>4.605170</td>\n",
       "      <td>3158.0</td>\n",
       "      <td>8.057694</td>\n",
       "    </tr>\n",
       "    <tr>\n",
       "      <th>44</th>\n",
       "      <td>LP001136</td>\n",
       "      <td>Male</td>\n",
       "      <td>Yes</td>\n",
       "      <td>0</td>\n",
       "      <td>Not Graduate</td>\n",
       "      <td>Yes</td>\n",
       "      <td>4695</td>\n",
       "      <td>0.0</td>\n",
       "      <td>96.0</td>\n",
       "      <td>NaN</td>\n",
       "      <td>1.0</td>\n",
       "      <td>Urban</td>\n",
       "      <td>Y</td>\n",
       "      <td>4.564348</td>\n",
       "      <td>4695.0</td>\n",
       "      <td>8.454253</td>\n",
       "    </tr>\n",
       "    <tr>\n",
       "      <th>45</th>\n",
       "      <td>LP001137</td>\n",
       "      <td>Female</td>\n",
       "      <td>No</td>\n",
       "      <td>0</td>\n",
       "      <td>Graduate</td>\n",
       "      <td>No</td>\n",
       "      <td>3410</td>\n",
       "      <td>0.0</td>\n",
       "      <td>88.0</td>\n",
       "      <td>NaN</td>\n",
       "      <td>1.0</td>\n",
       "      <td>Urban</td>\n",
       "      <td>Y</td>\n",
       "      <td>4.477337</td>\n",
       "      <td>3410.0</td>\n",
       "      <td>8.134468</td>\n",
       "    </tr>\n",
       "    <tr>\n",
       "      <th>73</th>\n",
       "      <td>LP001250</td>\n",
       "      <td>Male</td>\n",
       "      <td>Yes</td>\n",
       "      <td>3+</td>\n",
       "      <td>Not Graduate</td>\n",
       "      <td>No</td>\n",
       "      <td>4755</td>\n",
       "      <td>0.0</td>\n",
       "      <td>95.0</td>\n",
       "      <td>NaN</td>\n",
       "      <td>0.0</td>\n",
       "      <td>Semiurban</td>\n",
       "      <td>N</td>\n",
       "      <td>4.553877</td>\n",
       "      <td>4755.0</td>\n",
       "      <td>8.466952</td>\n",
       "    </tr>\n",
       "    <tr>\n",
       "      <th>112</th>\n",
       "      <td>LP001391</td>\n",
       "      <td>Male</td>\n",
       "      <td>Yes</td>\n",
       "      <td>0</td>\n",
       "      <td>Not Graduate</td>\n",
       "      <td>No</td>\n",
       "      <td>3572</td>\n",
       "      <td>4114.0</td>\n",
       "      <td>152.0</td>\n",
       "      <td>NaN</td>\n",
       "      <td>0.0</td>\n",
       "      <td>Rural</td>\n",
       "      <td>N</td>\n",
       "      <td>5.023881</td>\n",
       "      <td>7686.0</td>\n",
       "      <td>8.947156</td>\n",
       "    </tr>\n",
       "    <tr>\n",
       "      <th>165</th>\n",
       "      <td>LP001574</td>\n",
       "      <td>Male</td>\n",
       "      <td>Yes</td>\n",
       "      <td>0</td>\n",
       "      <td>Graduate</td>\n",
       "      <td>No</td>\n",
       "      <td>3707</td>\n",
       "      <td>3166.0</td>\n",
       "      <td>182.0</td>\n",
       "      <td>NaN</td>\n",
       "      <td>1.0</td>\n",
       "      <td>Rural</td>\n",
       "      <td>Y</td>\n",
       "      <td>5.204007</td>\n",
       "      <td>6873.0</td>\n",
       "      <td>8.835356</td>\n",
       "    </tr>\n",
       "    <tr>\n",
       "      <th>197</th>\n",
       "      <td>LP001669</td>\n",
       "      <td>Female</td>\n",
       "      <td>No</td>\n",
       "      <td>0</td>\n",
       "      <td>Not Graduate</td>\n",
       "      <td>No</td>\n",
       "      <td>1907</td>\n",
       "      <td>2365.0</td>\n",
       "      <td>120.0</td>\n",
       "      <td>NaN</td>\n",
       "      <td>1.0</td>\n",
       "      <td>Urban</td>\n",
       "      <td>Y</td>\n",
       "      <td>4.787492</td>\n",
       "      <td>4272.0</td>\n",
       "      <td>8.359837</td>\n",
       "    </tr>\n",
       "    <tr>\n",
       "      <th>223</th>\n",
       "      <td>LP001749</td>\n",
       "      <td>Male</td>\n",
       "      <td>Yes</td>\n",
       "      <td>0</td>\n",
       "      <td>Graduate</td>\n",
       "      <td>No</td>\n",
       "      <td>7578</td>\n",
       "      <td>1010.0</td>\n",
       "      <td>175.0</td>\n",
       "      <td>NaN</td>\n",
       "      <td>1.0</td>\n",
       "      <td>Semiurban</td>\n",
       "      <td>Y</td>\n",
       "      <td>5.164786</td>\n",
       "      <td>8588.0</td>\n",
       "      <td>9.058121</td>\n",
       "    </tr>\n",
       "    <tr>\n",
       "      <th>232</th>\n",
       "      <td>LP001770</td>\n",
       "      <td>Male</td>\n",
       "      <td>No</td>\n",
       "      <td>0</td>\n",
       "      <td>Not Graduate</td>\n",
       "      <td>No</td>\n",
       "      <td>3189</td>\n",
       "      <td>2598.0</td>\n",
       "      <td>120.0</td>\n",
       "      <td>NaN</td>\n",
       "      <td>1.0</td>\n",
       "      <td>Rural</td>\n",
       "      <td>Y</td>\n",
       "      <td>4.787492</td>\n",
       "      <td>5787.0</td>\n",
       "      <td>8.663369</td>\n",
       "    </tr>\n",
       "    <tr>\n",
       "      <th>335</th>\n",
       "      <td>LP002106</td>\n",
       "      <td>Male</td>\n",
       "      <td>Yes</td>\n",
       "      <td>2</td>\n",
       "      <td>Graduate</td>\n",
       "      <td>Yes</td>\n",
       "      <td>5503</td>\n",
       "      <td>4490.0</td>\n",
       "      <td>70.0</td>\n",
       "      <td>NaN</td>\n",
       "      <td>1.0</td>\n",
       "      <td>Semiurban</td>\n",
       "      <td>Y</td>\n",
       "      <td>4.248495</td>\n",
       "      <td>9993.0</td>\n",
       "      <td>9.209640</td>\n",
       "    </tr>\n",
       "    <tr>\n",
       "      <th>367</th>\n",
       "      <td>LP002188</td>\n",
       "      <td>Male</td>\n",
       "      <td>No</td>\n",
       "      <td>0</td>\n",
       "      <td>Graduate</td>\n",
       "      <td>No</td>\n",
       "      <td>5124</td>\n",
       "      <td>0.0</td>\n",
       "      <td>124.0</td>\n",
       "      <td>NaN</td>\n",
       "      <td>0.0</td>\n",
       "      <td>Rural</td>\n",
       "      <td>N</td>\n",
       "      <td>4.820282</td>\n",
       "      <td>5124.0</td>\n",
       "      <td>8.541691</td>\n",
       "    </tr>\n",
       "    <tr>\n",
       "      <th>421</th>\n",
       "      <td>LP002357</td>\n",
       "      <td>Female</td>\n",
       "      <td>No</td>\n",
       "      <td>0</td>\n",
       "      <td>Not Graduate</td>\n",
       "      <td>No</td>\n",
       "      <td>2720</td>\n",
       "      <td>0.0</td>\n",
       "      <td>80.0</td>\n",
       "      <td>NaN</td>\n",
       "      <td>0.0</td>\n",
       "      <td>Urban</td>\n",
       "      <td>N</td>\n",
       "      <td>4.382027</td>\n",
       "      <td>2720.0</td>\n",
       "      <td>7.908387</td>\n",
       "    </tr>\n",
       "    <tr>\n",
       "      <th>423</th>\n",
       "      <td>LP002362</td>\n",
       "      <td>Male</td>\n",
       "      <td>Yes</td>\n",
       "      <td>1</td>\n",
       "      <td>Graduate</td>\n",
       "      <td>No</td>\n",
       "      <td>7250</td>\n",
       "      <td>1667.0</td>\n",
       "      <td>110.0</td>\n",
       "      <td>NaN</td>\n",
       "      <td>0.0</td>\n",
       "      <td>Urban</td>\n",
       "      <td>N</td>\n",
       "      <td>4.700480</td>\n",
       "      <td>8917.0</td>\n",
       "      <td>9.095715</td>\n",
       "    </tr>\n",
       "  </tbody>\n",
       "</table>\n",
       "</div>"
      ],
      "text/plain": [
       "      Loan_ID  Gender Married Dependents     Education Self_Employed  \\\n",
       "19   LP001041    Male     Yes          0      Graduate            No   \n",
       "36   LP001109    Male     Yes          0      Graduate            No   \n",
       "44   LP001136    Male     Yes          0  Not Graduate           Yes   \n",
       "45   LP001137  Female      No          0      Graduate            No   \n",
       "73   LP001250    Male     Yes         3+  Not Graduate            No   \n",
       "112  LP001391    Male     Yes          0  Not Graduate            No   \n",
       "165  LP001574    Male     Yes          0      Graduate            No   \n",
       "197  LP001669  Female      No          0  Not Graduate            No   \n",
       "223  LP001749    Male     Yes          0      Graduate            No   \n",
       "232  LP001770    Male      No          0  Not Graduate            No   \n",
       "335  LP002106    Male     Yes          2      Graduate           Yes   \n",
       "367  LP002188    Male      No          0      Graduate            No   \n",
       "421  LP002357  Female      No          0  Not Graduate            No   \n",
       "423  LP002362    Male     Yes          1      Graduate            No   \n",
       "\n",
       "     ApplicantIncome  CoapplicantIncome  LoanAmount  Loan_Amount_Term  \\\n",
       "19              2600             3500.0       115.0               NaN   \n",
       "36              1828             1330.0       100.0               NaN   \n",
       "44              4695                0.0        96.0               NaN   \n",
       "45              3410                0.0        88.0               NaN   \n",
       "73              4755                0.0        95.0               NaN   \n",
       "112             3572             4114.0       152.0               NaN   \n",
       "165             3707             3166.0       182.0               NaN   \n",
       "197             1907             2365.0       120.0               NaN   \n",
       "223             7578             1010.0       175.0               NaN   \n",
       "232             3189             2598.0       120.0               NaN   \n",
       "335             5503             4490.0        70.0               NaN   \n",
       "367             5124                0.0       124.0               NaN   \n",
       "421             2720                0.0        80.0               NaN   \n",
       "423             7250             1667.0       110.0               NaN   \n",
       "\n",
       "     Credit_History Property_Area Loan_Status  LoanAmount_log  TotalIncome  \\\n",
       "19              1.0         Urban           Y        4.744932       6100.0   \n",
       "36              0.0         Urban           N        4.605170       3158.0   \n",
       "44              1.0         Urban           Y        4.564348       4695.0   \n",
       "45              1.0         Urban           Y        4.477337       3410.0   \n",
       "73              0.0     Semiurban           N        4.553877       4755.0   \n",
       "112             0.0         Rural           N        5.023881       7686.0   \n",
       "165             1.0         Rural           Y        5.204007       6873.0   \n",
       "197             1.0         Urban           Y        4.787492       4272.0   \n",
       "223             1.0     Semiurban           Y        5.164786       8588.0   \n",
       "232             1.0         Rural           Y        4.787492       5787.0   \n",
       "335             1.0     Semiurban           Y        4.248495       9993.0   \n",
       "367             0.0         Rural           N        4.820282       5124.0   \n",
       "421             0.0         Urban           N        4.382027       2720.0   \n",
       "423             0.0         Urban           N        4.700480       8917.0   \n",
       "\n",
       "     TotalIncome_log  \n",
       "19          8.716044  \n",
       "36          8.057694  \n",
       "44          8.454253  \n",
       "45          8.134468  \n",
       "73          8.466952  \n",
       "112         8.947156  \n",
       "165         8.835356  \n",
       "197         8.359837  \n",
       "223         9.058121  \n",
       "232         8.663369  \n",
       "335         9.209640  \n",
       "367         8.541691  \n",
       "421         7.908387  \n",
       "423         9.095715  "
      ]
     },
<<<<<<< HEAD
     "execution_count": 431,
=======
     "execution_count": 414,
>>>>>>> 0cfc41ccb2ba7cad31e5c8173b425537a33b9ff6
     "metadata": {},
     "output_type": "execute_result"
    }
   ],
   "source": [
    "df[pd.isnull(df['Loan_Amount_Term'])] # looking at the exact NaN values"
   ]
  },
  {
   "cell_type": "markdown",
   "metadata": {},
   "source": [
    "There are 14 missing values for Loan Amount Term and as we can see from the table above, the loan amounts are more than 70,000. Hence, it's safe to say that the loan tenure would be 360 months or 30 years for these missing values."
   ]
  },
  {
   "cell_type": "code",
<<<<<<< HEAD
   "execution_count": 432,
=======
   "execution_count": 415,
>>>>>>> 0cfc41ccb2ba7cad31e5c8173b425537a33b9ff6
   "metadata": {
    "collapsed": true
   },
   "outputs": [],
   "source": [
    "df['Loan_Amount_Term'].fillna(360, inplace=True)"
   ]
  },
  {
   "cell_type": "markdown",
   "metadata": {},
   "source": [
    "Lastly, for Credit_History missing values (50 records), we go back to the frequency table previously mentioned. There's an 80% chance that applicant's loan will be approved if they have a credit history. Hence, we can say that if a loan is approved, the Credit_History value is 1.0 and if it's denied, the value is 0.0. Applying the same method as we did with Married, we get:"
   ]
  },
  {
   "cell_type": "code",
<<<<<<< HEAD
   "execution_count": 433,
=======
   "execution_count": 416,
>>>>>>> 0cfc41ccb2ba7cad31e5c8173b425537a33b9ff6
   "metadata": {},
   "outputs": [
    {
     "name": "stdout",
     "output_type": "stream",
     "text": [
      "                Loan_Status\n",
      "Credit_History             \n",
      "0.0                0.078652\n",
      "1.0                0.795789\n"
     ]
    }
   ],
   "source": [
    "# frequency table of Loan Status against Credit History\n",
    "temp2 = df.pivot_table(values='Loan_Status', index=['Credit_History'], aggfunc=lambda x: \n",
    "x.map({'Y':1, 'N':0}).mean())\n",
    "\n",
    "print(temp2)\n",
    "\n",
    "# function to fill Credit_History missing values with 1.0 if Loan_Status is Yes and vice versa\n",
    "def fage4(x):\n",
    "    if x['Loan_Status'] == 'Y':\n",
    "        return 1.0\n",
    "    else:\n",
    "        return 0.0\n",
    "\n",
    "df['Credit_History'].fillna(df[df['Credit_History'].isnull()].apply(fage4, axis=1), inplace=True)                              "
   ]
  },
  {
   "cell_type": "markdown",
   "metadata": {},
   "source": [
    "Now, we check that all missing values have been dealt with."
   ]
  },
  {
   "cell_type": "code",
<<<<<<< HEAD
   "execution_count": 434,
=======
   "execution_count": 417,
>>>>>>> 0cfc41ccb2ba7cad31e5c8173b425537a33b9ff6
   "metadata": {},
   "outputs": [
    {
     "data": {
      "text/plain": [
       "Loan_ID              0\n",
       "Gender               0\n",
       "Married              0\n",
       "Dependents           0\n",
       "Education            0\n",
       "Self_Employed        0\n",
       "ApplicantIncome      0\n",
       "CoapplicantIncome    0\n",
       "LoanAmount           0\n",
       "Loan_Amount_Term     0\n",
       "Credit_History       0\n",
       "Property_Area        0\n",
       "Loan_Status          0\n",
       "LoanAmount_log       0\n",
       "TotalIncome          0\n",
       "TotalIncome_log      0\n",
       "dtype: int64"
      ]
     },
<<<<<<< HEAD
     "execution_count": 434,
=======
     "execution_count": 417,
>>>>>>> 0cfc41ccb2ba7cad31e5c8173b425537a33b9ff6
     "metadata": {},
     "output_type": "execute_result"
    }
   ],
   "source": [
    "df.apply(lambda x: sum(x.isnull(), axis=0)) # check missing values"
   ]
  },
  {
   "cell_type": "markdown",
   "metadata": {},
   "source": [
    "Our data munging has been completed. Next we shall move to building a predictive model in Python."
   ]
<<<<<<< HEAD
  },
  {
   "cell_type": "markdown",
   "metadata": {},
   "source": [
    "Moving on to building a predictive model for our data. We shall use Skicit-Learn (sklearn) library in order to perform our predictions. First, we convert our categorical variables into numeric as sklearn requires the inputs to be numerical. But before that, we would encounter an error in using LabelEncoder since the 'Dependents' variable has a category called '3+'. We need to convert this to a numerical value value since all the other categories within 'Dependents' are numerical. Hence, for this purpose, we assume that 3 dependents can either be 3 or more."
   ]
  },
  {
   "cell_type": "code",
   "execution_count": 435,
   "metadata": {},
   "outputs": [],
   "source": [
    "# replace '3+' with 3 and change the datatype into integer\n",
    "df['Dependents'].replace(['3+'], 3, inplace=True)\n",
    "df['Dependents'] = df['Dependents'].astype(int64)"
   ]
  },
  {
   "cell_type": "code",
   "execution_count": 436,
   "metadata": {},
   "outputs": [
    {
     "data": {
      "text/plain": [
       "Loan_ID               object\n",
       "Gender                 int64\n",
       "Married                int64\n",
       "Dependents             int64\n",
       "Education              int64\n",
       "Self_Employed          int64\n",
       "ApplicantIncome        int64\n",
       "CoapplicantIncome    float64\n",
       "LoanAmount           float64\n",
       "Loan_Amount_Term     float64\n",
       "Credit_History       float64\n",
       "Property_Area          int64\n",
       "Loan_Status            int64\n",
       "LoanAmount_log       float64\n",
       "TotalIncome          float64\n",
       "TotalIncome_log      float64\n",
       "dtype: object"
      ]
     },
     "execution_count": 436,
     "metadata": {},
     "output_type": "execute_result"
    }
   ],
   "source": [
    "# encode categorical variables as numerical values (e.g. male is 1)\n",
    "from sklearn.preprocessing import LabelEncoder\n",
    "\n",
    "variableMod = ['Gender', 'Married','Dependents', 'Education', 'Self_Employed', 'Property_Area', 'Loan_Status']\n",
    "le = LabelEncoder()\n",
    "\n",
    "for i in variableMod:\n",
    "    df[i] = le.fit_transform(df[i])\n",
    "\n",
    "df.dtypes"
   ]
  },
  {
   "cell_type": "markdown",
   "metadata": {
    "collapsed": true
   },
   "source": [
    "Next, we will define a generic classification function, which takes a model as input and determines the accuracy and cross-validation scores. This is to ensure that whichever model we choose, we can compare the accuracy and ensure that we are not under-fitting or over-fitting the model. This is done by the K-fold cross-validation method."
   ]
  },
  {
   "cell_type": "code",
   "execution_count": 437,
   "metadata": {},
   "outputs": [],
   "source": [
    "# import required models from scikit learn\n",
    "from sklearn.linear_model import LogisticRegression # importing Logistic Regression\n",
    "from sklearn.cross_validation import KFold # importing K-fold cross-validation method\n",
    "from sklearn.ensemble import RandomForestClassifier # importing Random Forest\n",
    "from sklearn.tree import DecisionTreeClassifier, export_graphviz # importing Decision Tree\n",
    "from sklearn import metrics # for scoring our models\n",
    "\n",
    "# generic function for making a classification model and accessing performance\n",
    "def classification_model(model, data, predictors, outcome):\n",
    "    # fit the model\n",
    "    model.fit(data[predictors], data[outcome])\n",
    "    \n",
    "    # make predictions on training set\n",
    "    predictions = model.predict(data[predictors])\n",
    "    \n",
    "    # print accuracy\n",
    "    accuracy = metrics.accuracy_score(predictions, data[outcome])\n",
    "    print(\"Accuracy: %s\" % \"{0:.3%}\".format(accuracy))\n",
    "    \n",
    "    # perform k-fold cross-validation with 5 folds\n",
    "    kf = KFold(data.shape[0], n_folds=5)\n",
    "    error = []\n",
    "    \n",
    "    for train, test in kf:\n",
    "        # filter training data\n",
    "        train_predictors = (data[predictors].iloc[train,:])\n",
    "        \n",
    "        # target, used to train the algorithm\n",
    "        train_target = data[outcome].iloc[train]\n",
    "        \n",
    "        # train the algorithm using predictors and target\n",
    "        model.fit(train_predictors, train_target)\n",
    "        \n",
    "        # record error from each cross-validation run\n",
    "        error.append(model.score(data[predictors].iloc[test,:], data[outcome].iloc[test]))\n",
    " \n",
    "    print(\"Cross-Validation Score: %s\" % \"{0:.3%}\".format(np.mean(error)))\n",
    "    \n",
    "    # fit model again so it can be referred outside the function:\n",
    "    model.fit(data[predictors], data[outcome])"
   ]
  },
  {
   "cell_type": "markdown",
   "metadata": {},
   "source": [
    "First, we try to use a Logistic Regression model to predict our data. It would'nt be good to take all the independent variables into account as that might lead to overfitting the model. Hence, we will take the four categories that we intuitively believe will have a higher factors compared to others. We will look at credit history, applicant and co-applicant incomes, applicants' education level and property types."
   ]
  },
  {
   "cell_type": "code",
   "execution_count": 438,
   "metadata": {},
   "outputs": [
    {
     "name": "stdout",
     "output_type": "stream",
     "text": [
      "Accuracy: 83.062%\n",
      "Cross-Validation Score: 83.065%\n"
     ]
    }
   ],
   "source": [
    "# Logistic Regression\n",
    "outcome_var = 'Loan_Status'\n",
    "model = LogisticRegression()\n",
    "predictor_var = ['Credit_History']\n",
    "classification_model(model, df, predictor_var, outcome_var)"
   ]
  },
  {
   "cell_type": "code",
   "execution_count": 439,
   "metadata": {},
   "outputs": [
    {
     "name": "stdout",
     "output_type": "stream",
     "text": [
      "Accuracy: 83.062%\n",
      "Cross-Validation Score: 83.065%\n"
     ]
    }
   ],
   "source": [
    "# adding other variables into our model\n",
    "predictor_var = ['Credit_History', 'TotalIncome_log','Education', 'Property_Area']\n",
    "classification_model(model, df, predictor_var, outcome_var)"
   ]
  },
  {
   "cell_type": "markdown",
   "metadata": {},
   "source": [
    "It seems that the Credit History factor is dominating all other factors. We shall look into another model, Decision Tree which is known to provide a higher accuracy than logistic regression model. Let's see if the result can be increased."
   ]
  },
  {
   "cell_type": "code",
   "execution_count": 440,
   "metadata": {},
   "outputs": [
    {
     "name": "stdout",
     "output_type": "stream",
     "text": [
      "Accuracy: 99.186%\n",
      "Cross-Validation Score: 71.505%\n"
     ]
    }
   ],
   "source": [
    "# Decision Tree\n",
    "model = DecisionTreeClassifier()\n",
    "predictor_var = ['Credit_History', 'TotalIncome_log', 'Education', 'Property_Area']\n",
    "classification_model(model, df, predictor_var, outcome_var)"
   ]
  },
  {
   "cell_type": "markdown",
   "metadata": {},
   "source": [
    "Eventhough our accuracy is high, our cross-validation score is pretty low. This might mean that we have overfit our data. Let's try another model, Random Forest."
   ]
  },
  {
   "cell_type": "code",
   "execution_count": 441,
   "metadata": {},
   "outputs": [
    {
     "name": "stdout",
     "output_type": "stream",
     "text": [
      "Accuracy: 100.000%\n",
      "Cross-Validation Score: 79.484%\n"
     ]
    }
   ],
   "source": [
    "# Random Forest\n",
    "model = RandomForestClassifier(n_estimators=100)\n",
    "predictor_var = ['Gender', 'Married', 'Dependents', 'Education',\n",
    "       'Self_Employed', 'Loan_Amount_Term', 'Credit_History', 'Property_Area',\n",
    "        'LoanAmount_log','TotalIncome_log']\n",
    "classification_model(model, df, predictor_var, outcome_var)"
   ]
  },
  {
   "cell_type": "markdown",
   "metadata": {},
   "source": [
    "The accuracy is 100%. This is the very definition of overfitting data. We will need to reduce the numbers of predicotrs or tune the model parameters. "
   ]
  },
  {
   "cell_type": "code",
   "execution_count": 442,
   "metadata": {},
   "outputs": [
    {
     "name": "stdout",
     "output_type": "stream",
     "text": [
      "Credit_History      0.327075\n",
      "TotalIncome_log     0.240562\n",
      "LoanAmount_log      0.208964\n",
      "Dependents          0.049062\n",
      "Property_Area       0.047737\n",
      "Loan_Amount_Term    0.043631\n",
      "Education           0.021790\n",
      "Married             0.021650\n",
      "Gender              0.020148\n",
      "Self_Employed       0.019380\n",
      "dtype: float64\n"
     ]
    }
   ],
   "source": [
    "# create a series with feature importances\n",
    "featureimp = pd.Series(model.feature_importances_, index=predictor_var).sort_values(ascending=False)\n",
    "print(featureimp)"
   ]
  },
  {
   "cell_type": "markdown",
   "metadata": {},
   "source": [
    "Let's use the top 5 variables for our model."
   ]
  },
  {
   "cell_type": "code",
   "execution_count": 443,
   "metadata": {},
   "outputs": [
    {
     "name": "stdout",
     "output_type": "stream",
     "text": [
      "Accuracy: 84.528%\n",
      "Cross-Validation Score: 82.903%\n"
     ]
    }
   ],
   "source": [
    "# tuning the random forest parameters\n",
    "model = RandomForestClassifier(n_estimators=25, min_samples_split=25, max_depth=7, max_features=1)\n",
    "predictor_var = ['Credit_History', 'TotalIncome_log', 'LoanAmount_log', 'Dependents', 'Property_Area']\n",
    "classification_model(model, df, predictor_var, outcome_var)"
   ]
  },
  {
   "cell_type": "markdown",
   "metadata": {},
   "source": [
    "Note that eventhough the accuracy decreased, the cross-validation score increased, indicating that the model is generalising well. Interestingly, the accuracy and cross-validation score is not much different compared to the logistic regression that we performed earlier. A more complex model does not necessarily mean a better result."
   ]
=======
>>>>>>> 0cfc41ccb2ba7cad31e5c8173b425537a33b9ff6
  }
 ],
 "metadata": {
  "kernelspec": {
   "display_name": "Python 3",
   "language": "python",
   "name": "python3"
  },
  "language_info": {
   "codemirror_mode": {
    "name": "ipython",
    "version": 3
   },
   "file_extension": ".py",
   "mimetype": "text/x-python",
   "name": "python",
   "nbconvert_exporter": "python",
   "pygments_lexer": "ipython3",
   "version": "3.6.2"
  }
 },
 "nbformat": 4,
 "nbformat_minor": 2
}
